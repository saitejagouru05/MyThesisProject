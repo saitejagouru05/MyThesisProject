{
 "cells": [
  {
   "cell_type": "markdown",
   "metadata": {},
   "source": [
    "##### import libraries for data analysis"
   ]
  },
  {
   "cell_type": "code",
   "execution_count": 1,
   "metadata": {},
   "outputs": [
    {
     "name": "stdout",
     "output_type": "stream",
     "text": [
      "Wall time: 14.5 s\n"
     ]
    }
   ],
   "source": [
    "%%time\n",
    "import pandas as pd\n",
    "import numpy as np\n",
    "import matplotlib.pyplot as plt\n",
    "import seaborn as sns\n",
    "%matplotlib inline"
   ]
  },
  {
   "cell_type": "code",
   "execution_count": 3,
   "metadata": {},
   "outputs": [],
   "source": [
    "from imblearn.over_sampling import SMOTE"
   ]
  },
  {
   "cell_type": "markdown",
   "metadata": {},
   "source": [
    "#### To get the current working directory"
   ]
  },
  {
   "cell_type": "code",
   "execution_count": 4,
   "metadata": {},
   "outputs": [
    {
     "name": "stdout",
     "output_type": "stream",
     "text": [
      "Wall time: 0 ns\n"
     ]
    }
   ],
   "source": [
    "%%time\n",
    "import os\n",
    "os.getcwd()"
   ]
  },
  {
   "cell_type": "markdown",
   "metadata": {},
   "source": [
    "##### Read the data of given datasets"
   ]
  },
  {
   "cell_type": "code",
   "execution_count": 5,
   "metadata": {},
   "outputs": [
    {
     "name": "stdout",
     "output_type": "stream",
     "text": [
      "Wall time: 29.7 s\n"
     ]
    }
   ],
   "source": [
    "%%time\n",
    "OperatingConditionsData = pd.read_csv(\"OperatingConditionsData.csv\")\n",
    "MachinesDetails = pd.read_csv(\"MachinesDetails.csv\")\n",
    "ComponentServiceLog = pd.read_csv(\"ComponentServiceLog.csv\")\n",
    "ComponentReplacementLog = pd.read_csv(\"ComponentReplacementLog.csv\")\n",
    "ComplaintsLog = pd.read_csv(\"ComplaintsLog.csv\")\n",
    "Train = pd.read_csv(\"Train.csv\")\n",
    "Test = pd.read_csv(\"Test.csv\")"
   ]
  },
  {
   "cell_type": "markdown",
   "metadata": {},
   "source": [
    "#### ComplaintsLog"
   ]
  },
  {
   "cell_type": "code",
   "execution_count": 6,
   "metadata": {},
   "outputs": [
    {
     "name": "stdout",
     "output_type": "stream",
     "text": [
      "Wall time: 999 µs\n"
     ]
    },
    {
     "data": {
      "text/html": [
       "<div>\n",
       "<style scoped>\n",
       "    .dataframe tbody tr th:only-of-type {\n",
       "        vertical-align: middle;\n",
       "    }\n",
       "\n",
       "    .dataframe tbody tr th {\n",
       "        vertical-align: top;\n",
       "    }\n",
       "\n",
       "    .dataframe thead th {\n",
       "        text-align: right;\n",
       "    }\n",
       "</style>\n",
       "<table border=\"1\" class=\"dataframe\">\n",
       "  <thead>\n",
       "    <tr style=\"text-align: right;\">\n",
       "      <th></th>\n",
       "      <th>Year</th>\n",
       "      <th>Month</th>\n",
       "      <th>Day</th>\n",
       "      <th>Time</th>\n",
       "      <th>MachineID</th>\n",
       "      <th>ErrorID</th>\n",
       "    </tr>\n",
       "  </thead>\n",
       "  <tbody>\n",
       "    <tr>\n",
       "      <th>0</th>\n",
       "      <td>2017</td>\n",
       "      <td>1</td>\n",
       "      <td>6</td>\n",
       "      <td>06:00:00</td>\n",
       "      <td>MID10889</td>\n",
       "      <td>error1</td>\n",
       "    </tr>\n",
       "    <tr>\n",
       "      <th>1</th>\n",
       "      <td>2017</td>\n",
       "      <td>2</td>\n",
       "      <td>20</td>\n",
       "      <td>06:00:00</td>\n",
       "      <td>MID10889</td>\n",
       "      <td>error2</td>\n",
       "    </tr>\n",
       "    <tr>\n",
       "      <th>2</th>\n",
       "      <td>2017</td>\n",
       "      <td>2</td>\n",
       "      <td>20</td>\n",
       "      <td>06:00:00</td>\n",
       "      <td>MID10889</td>\n",
       "      <td>error3</td>\n",
       "    </tr>\n",
       "    <tr>\n",
       "      <th>3</th>\n",
       "      <td>2017</td>\n",
       "      <td>2</td>\n",
       "      <td>22</td>\n",
       "      <td>04:00:00</td>\n",
       "      <td>MID10889</td>\n",
       "      <td>error4</td>\n",
       "    </tr>\n",
       "    <tr>\n",
       "      <th>4</th>\n",
       "      <td>2017</td>\n",
       "      <td>3</td>\n",
       "      <td>22</td>\n",
       "      <td>06:00:00</td>\n",
       "      <td>MID10889</td>\n",
       "      <td>error1</td>\n",
       "    </tr>\n",
       "  </tbody>\n",
       "</table>\n",
       "</div>"
      ],
      "text/plain": [
       "   Year  Month  Day      Time MachineID ErrorID\n",
       "0  2017      1    6  06:00:00  MID10889  error1\n",
       "1  2017      2   20  06:00:00  MID10889  error2\n",
       "2  2017      2   20  06:00:00  MID10889  error3\n",
       "3  2017      2   22  04:00:00  MID10889  error4\n",
       "4  2017      3   22  06:00:00  MID10889  error1"
      ]
     },
     "execution_count": 6,
     "metadata": {},
     "output_type": "execute_result"
    }
   ],
   "source": [
    "%%time\n",
    "ComplaintsLog.head()"
   ]
  },
  {
   "cell_type": "markdown",
   "metadata": {},
   "source": [
    "##### * Merging year,date,month and time into singlecolumn which is DateTime\n",
    "##### * Dropping unwanted columns\n",
    "##### * Final ComplaintsLog data"
   ]
  },
  {
   "cell_type": "code",
   "execution_count": 7,
   "metadata": {},
   "outputs": [
    {
     "name": "stdout",
     "output_type": "stream",
     "text": [
      "Wall time: 6.27 s\n"
     ]
    }
   ],
   "source": [
    "%%time\n",
    "ComplaintsLog['timestamp'] = pd.to_datetime(ComplaintsLog.Year*10000+ComplaintsLog.Month*100+ComplaintsLog.Day,format=\"%Y%m%d\")\n",
    "ComplaintsLog['DateTime'] = pd.to_datetime(ComplaintsLog['timestamp'].apply(str)+\" \"+ComplaintsLog['Time'])\n",
    "ComplaintsLog.drop(['Year','Day','Month','Time','timestamp'],axis=1,inplace=True)\n",
    "ComplaintsLog.head()"
   ]
  },
  {
   "cell_type": "code",
   "execution_count": 8,
   "metadata": {},
   "outputs": [
    {
     "name": "stdout",
     "output_type": "stream",
     "text": [
      "Total number of ComplaintsLog records: 12628\n",
      "Wall time: 999 µs\n"
     ]
    }
   ],
   "source": [
    "%%time\n",
    "print(\"Total number of ComplaintsLog records: %d\" % len(ComplaintsLog.index))"
   ]
  },
  {
   "cell_type": "markdown",
   "metadata": {},
   "source": [
    "##### ComponentReplacementLog"
   ]
  },
  {
   "cell_type": "code",
   "execution_count": 9,
   "metadata": {},
   "outputs": [
    {
     "name": "stdout",
     "output_type": "stream",
     "text": [
      "Wall time: 0 ns\n"
     ]
    },
    {
     "data": {
      "text/html": [
       "<div>\n",
       "<style scoped>\n",
       "    .dataframe tbody tr th:only-of-type {\n",
       "        vertical-align: middle;\n",
       "    }\n",
       "\n",
       "    .dataframe tbody tr th {\n",
       "        vertical-align: top;\n",
       "    }\n",
       "\n",
       "    .dataframe thead th {\n",
       "        text-align: right;\n",
       "    }\n",
       "</style>\n",
       "<table border=\"1\" class=\"dataframe\">\n",
       "  <thead>\n",
       "    <tr style=\"text-align: right;\">\n",
       "      <th></th>\n",
       "      <th>Year</th>\n",
       "      <th>Month</th>\n",
       "      <th>Day</th>\n",
       "      <th>Time</th>\n",
       "      <th>MachineID</th>\n",
       "      <th>ComponentReplacement</th>\n",
       "    </tr>\n",
       "  </thead>\n",
       "  <tbody>\n",
       "    <tr>\n",
       "      <th>0</th>\n",
       "      <td>2017</td>\n",
       "      <td>1</td>\n",
       "      <td>7</td>\n",
       "      <td>06:00:00</td>\n",
       "      <td>MID10889</td>\n",
       "      <td>Component1</td>\n",
       "    </tr>\n",
       "    <tr>\n",
       "      <th>1</th>\n",
       "      <td>2017</td>\n",
       "      <td>2</td>\n",
       "      <td>21</td>\n",
       "      <td>06:00:00</td>\n",
       "      <td>MID10889</td>\n",
       "      <td>Component2</td>\n",
       "    </tr>\n",
       "    <tr>\n",
       "      <th>2</th>\n",
       "      <td>2017</td>\n",
       "      <td>3</td>\n",
       "      <td>23</td>\n",
       "      <td>06:00:00</td>\n",
       "      <td>MID10889</td>\n",
       "      <td>Component1</td>\n",
       "    </tr>\n",
       "    <tr>\n",
       "      <th>3</th>\n",
       "      <td>2017</td>\n",
       "      <td>6</td>\n",
       "      <td>21</td>\n",
       "      <td>06:00:00</td>\n",
       "      <td>MID10889</td>\n",
       "      <td>Component2</td>\n",
       "    </tr>\n",
       "    <tr>\n",
       "      <th>4</th>\n",
       "      <td>2017</td>\n",
       "      <td>2</td>\n",
       "      <td>10</td>\n",
       "      <td>06:00:00</td>\n",
       "      <td>MID10898</td>\n",
       "      <td>Component2</td>\n",
       "    </tr>\n",
       "  </tbody>\n",
       "</table>\n",
       "</div>"
      ],
      "text/plain": [
       "   Year  Month  Day      Time MachineID ComponentReplacement\n",
       "0  2017      1    7  06:00:00  MID10889           Component1\n",
       "1  2017      2   21  06:00:00  MID10889           Component2\n",
       "2  2017      3   23  06:00:00  MID10889           Component1\n",
       "3  2017      6   21  06:00:00  MID10889           Component2\n",
       "4  2017      2   10  06:00:00  MID10898           Component2"
      ]
     },
     "execution_count": 9,
     "metadata": {},
     "output_type": "execute_result"
    }
   ],
   "source": [
    "%%time\n",
    "ComponentReplacementLog.head()"
   ]
  },
  {
   "cell_type": "markdown",
   "metadata": {},
   "source": [
    "##### * Merging year,date,month and time into singlecolumn which is DateTime\n",
    "##### * Dropping unwanted columns\n",
    "##### * Final ComponentReplacementLog data"
   ]
  },
  {
   "cell_type": "code",
   "execution_count": 10,
   "metadata": {},
   "outputs": [
    {
     "name": "stdout",
     "output_type": "stream",
     "text": [
      "Wall time: 2.93 s\n"
     ]
    }
   ],
   "source": [
    "%%time\n",
    "ComponentReplacementLog['timestamp'] = pd.to_datetime(ComponentReplacementLog.Year*10000+ComponentReplacementLog.Month*100+ComponentReplacementLog.Day,format=\"%Y%m%d\")\n",
    "ComponentReplacementLog['DateTime'] = pd.to_datetime(ComponentReplacementLog['timestamp'].apply(str)+\" \"+ComponentReplacementLog['Time'])\n",
    "ComponentReplacementLog.drop(['Year','Day','Month','Time','timestamp'],axis=1,inplace=True)\n",
    "ComponentReplacementLog.head()"
   ]
  },
  {
   "cell_type": "code",
   "execution_count": 11,
   "metadata": {},
   "outputs": [
    {
     "name": "stdout",
     "output_type": "stream",
     "text": [
      "Total Number of ComponentReplacementLog Records: 7087\n",
      "Wall time: 0 ns\n"
     ]
    }
   ],
   "source": [
    "%%time\n",
    "print(\"Total Number of ComponentReplacementLog Records: %d\" %len(ComponentReplacementLog.index))"
   ]
  },
  {
   "cell_type": "markdown",
   "metadata": {},
   "source": [
    "##### ComponentServiceLog"
   ]
  },
  {
   "cell_type": "code",
   "execution_count": 12,
   "metadata": {},
   "outputs": [
    {
     "name": "stdout",
     "output_type": "stream",
     "text": [
      "Wall time: 0 ns\n"
     ]
    },
    {
     "data": {
      "text/html": [
       "<div>\n",
       "<style scoped>\n",
       "    .dataframe tbody tr th:only-of-type {\n",
       "        vertical-align: middle;\n",
       "    }\n",
       "\n",
       "    .dataframe tbody tr th {\n",
       "        vertical-align: top;\n",
       "    }\n",
       "\n",
       "    .dataframe thead th {\n",
       "        text-align: right;\n",
       "    }\n",
       "</style>\n",
       "<table border=\"1\" class=\"dataframe\">\n",
       "  <thead>\n",
       "    <tr style=\"text-align: right;\">\n",
       "      <th></th>\n",
       "      <th>Year</th>\n",
       "      <th>Month</th>\n",
       "      <th>Day</th>\n",
       "      <th>Time</th>\n",
       "      <th>MachineID</th>\n",
       "      <th>ComponentAttended</th>\n",
       "      <th>ServiceType</th>\n",
       "    </tr>\n",
       "  </thead>\n",
       "  <tbody>\n",
       "    <tr>\n",
       "      <th>0</th>\n",
       "      <td>2016</td>\n",
       "      <td>6</td>\n",
       "      <td>1</td>\n",
       "      <td>06:00:00</td>\n",
       "      <td>MID10889</td>\n",
       "      <td>Component1</td>\n",
       "      <td>ScheduledService</td>\n",
       "    </tr>\n",
       "    <tr>\n",
       "      <th>1</th>\n",
       "      <td>2016</td>\n",
       "      <td>6</td>\n",
       "      <td>1</td>\n",
       "      <td>06:00:00</td>\n",
       "      <td>MID10889</td>\n",
       "      <td>Component2</td>\n",
       "      <td>ScheduledService</td>\n",
       "    </tr>\n",
       "    <tr>\n",
       "      <th>2</th>\n",
       "      <td>2016</td>\n",
       "      <td>7</td>\n",
       "      <td>31</td>\n",
       "      <td>06:00:00</td>\n",
       "      <td>MID10889</td>\n",
       "      <td>Component3</td>\n",
       "      <td>ComponentRepair</td>\n",
       "    </tr>\n",
       "    <tr>\n",
       "      <th>3</th>\n",
       "      <td>2016</td>\n",
       "      <td>9</td>\n",
       "      <td>14</td>\n",
       "      <td>06:00:00</td>\n",
       "      <td>MID10889</td>\n",
       "      <td>Component4</td>\n",
       "      <td>ComponentRepair</td>\n",
       "    </tr>\n",
       "    <tr>\n",
       "      <th>4</th>\n",
       "      <td>2017</td>\n",
       "      <td>1</td>\n",
       "      <td>7</td>\n",
       "      <td>06:00:00</td>\n",
       "      <td>MID10889</td>\n",
       "      <td>Component1</td>\n",
       "      <td>ComponentRepair</td>\n",
       "    </tr>\n",
       "  </tbody>\n",
       "</table>\n",
       "</div>"
      ],
      "text/plain": [
       "   Year  Month  Day      Time MachineID ComponentAttended       ServiceType\n",
       "0  2016      6    1  06:00:00  MID10889        Component1  ScheduledService\n",
       "1  2016      6    1  06:00:00  MID10889        Component2  ScheduledService\n",
       "2  2016      7   31  06:00:00  MID10889        Component3   ComponentRepair\n",
       "3  2016      9   14  06:00:00  MID10889        Component4   ComponentRepair\n",
       "4  2017      1    7  06:00:00  MID10889        Component1   ComponentRepair"
      ]
     },
     "execution_count": 12,
     "metadata": {},
     "output_type": "execute_result"
    }
   ],
   "source": [
    "%%time\n",
    "ComponentServiceLog.head()"
   ]
  },
  {
   "cell_type": "markdown",
   "metadata": {},
   "source": [
    "##### * Merging year,date,month and time into singlecolumn which is DateTime\n",
    "##### * Dropping unwanted columns\n",
    "##### * Final ComponentServiceLog data"
   ]
  },
  {
   "cell_type": "code",
   "execution_count": 13,
   "metadata": {},
   "outputs": [
    {
     "name": "stdout",
     "output_type": "stream",
     "text": [
      "Wall time: 14.4 s\n"
     ]
    }
   ],
   "source": [
    "%%time\n",
    "ComponentServiceLog['timestamp'] = pd.to_datetime(ComponentServiceLog.Year*10000+ComponentServiceLog.Month*100+ComponentServiceLog.Day,format=\"%Y%m%d\")\n",
    "ComponentServiceLog['DateTime'] = pd.to_datetime(ComponentServiceLog['timestamp'].apply(str)+\" \"+ComponentServiceLog['Time'])\n",
    "ComponentServiceLog.drop(['Year','Day','Month','Time','timestamp'],axis=1,inplace=True)\n",
    "ComponentServiceLog.head()"
   ]
  },
  {
   "cell_type": "code",
   "execution_count": 14,
   "metadata": {},
   "outputs": [
    {
     "name": "stdout",
     "output_type": "stream",
     "text": [
      "Total number of ComponentServiceLog records: 34490\n",
      "Wall time: 0 ns\n"
     ]
    }
   ],
   "source": [
    "%%time\n",
    "print(\"Total number of ComponentServiceLog records: %d\" % len(ComponentServiceLog.index))"
   ]
  },
  {
   "cell_type": "markdown",
   "metadata": {},
   "source": [
    "##### MachinesDetails"
   ]
  },
  {
   "cell_type": "code",
   "execution_count": 15,
   "metadata": {},
   "outputs": [
    {
     "name": "stdout",
     "output_type": "stream",
     "text": [
      "Wall time: 0 ns\n"
     ]
    },
    {
     "data": {
      "text/html": [
       "<div>\n",
       "<style scoped>\n",
       "    .dataframe tbody tr th:only-of-type {\n",
       "        vertical-align: middle;\n",
       "    }\n",
       "\n",
       "    .dataframe tbody tr th {\n",
       "        vertical-align: top;\n",
       "    }\n",
       "\n",
       "    .dataframe thead th {\n",
       "        text-align: right;\n",
       "    }\n",
       "</style>\n",
       "<table border=\"1\" class=\"dataframe\">\n",
       "  <thead>\n",
       "    <tr style=\"text-align: right;\">\n",
       "      <th></th>\n",
       "      <th>MachineID</th>\n",
       "      <th>MachineModel</th>\n",
       "      <th>ServicePeriod</th>\n",
       "    </tr>\n",
       "  </thead>\n",
       "  <tbody>\n",
       "    <tr>\n",
       "      <th>0</th>\n",
       "      <td>MID10801</td>\n",
       "      <td>model4</td>\n",
       "      <td>21</td>\n",
       "    </tr>\n",
       "    <tr>\n",
       "      <th>1</th>\n",
       "      <td>MID10802</td>\n",
       "      <td>model4</td>\n",
       "      <td>21</td>\n",
       "    </tr>\n",
       "    <tr>\n",
       "      <th>2</th>\n",
       "      <td>MID10803</td>\n",
       "      <td>model1</td>\n",
       "      <td>20</td>\n",
       "    </tr>\n",
       "    <tr>\n",
       "      <th>3</th>\n",
       "      <td>MID10804</td>\n",
       "      <td>model2</td>\n",
       "      <td>20</td>\n",
       "    </tr>\n",
       "    <tr>\n",
       "      <th>4</th>\n",
       "      <td>MID10805</td>\n",
       "      <td>model2</td>\n",
       "      <td>20</td>\n",
       "    </tr>\n",
       "  </tbody>\n",
       "</table>\n",
       "</div>"
      ],
      "text/plain": [
       "  MachineID MachineModel  ServicePeriod\n",
       "0  MID10801       model4             21\n",
       "1  MID10802       model4             21\n",
       "2  MID10803       model1             20\n",
       "3  MID10804       model2             20\n",
       "4  MID10805       model2             20"
      ]
     },
     "execution_count": 15,
     "metadata": {},
     "output_type": "execute_result"
    }
   ],
   "source": [
    "%%time\n",
    "MachinesDetails.head(5)"
   ]
  },
  {
   "cell_type": "code",
   "execution_count": 16,
   "metadata": {},
   "outputs": [
    {
     "name": "stdout",
     "output_type": "stream",
     "text": [
      "Total number of MachinesDetails records: 1150\n",
      "Wall time: 0 ns\n"
     ]
    }
   ],
   "source": [
    "%%time\n",
    "print(\"Total number of MachinesDetails records: %d\" % len(MachinesDetails.index))"
   ]
  },
  {
   "cell_type": "markdown",
   "metadata": {},
   "source": [
    "##### * Merging year,date,month and time into singlecolumn which is DateTime\n",
    "##### * Dropping unwanted columns\n",
    "##### * Final OperatingConditionsData data"
   ]
  },
  {
   "cell_type": "code",
   "execution_count": 17,
   "metadata": {},
   "outputs": [
    {
     "name": "stdout",
     "output_type": "stream",
     "text": [
      "Wall time: 19.2 s\n"
     ]
    }
   ],
   "source": [
    "%%time\n",
    "OperatingConditionsData['timestamp'] = pd.to_datetime(OperatingConditionsData.Year*10000+OperatingConditionsData.Month*100+OperatingConditionsData.Day,format=\"%Y%m%d\")"
   ]
  },
  {
   "cell_type": "code",
   "execution_count": 18,
   "metadata": {},
   "outputs": [
    {
     "name": "stdout",
     "output_type": "stream",
     "text": [
      "Wall time: 42min 44s\n"
     ]
    }
   ],
   "source": [
    "%%time\n",
    "OperatingConditionsData['DateTime'] = pd.to_datetime(OperatingConditionsData['timestamp'].apply(str)+\" \"+OperatingConditionsData['Time'])"
   ]
  },
  {
   "cell_type": "code",
   "execution_count": 19,
   "metadata": {},
   "outputs": [
    {
     "name": "stdout",
     "output_type": "stream",
     "text": [
      "Wall time: 1.77 s\n"
     ]
    }
   ],
   "source": [
    "%%time\n",
    "OperatingConditionsData.drop(['Year','Day','Month','Time','timestamp'],axis=1,inplace=True)"
   ]
  },
  {
   "cell_type": "code",
   "execution_count": 20,
   "metadata": {},
   "outputs": [
    {
     "name": "stdout",
     "output_type": "stream",
     "text": [
      "Wall time: 4.98 ms\n"
     ]
    },
    {
     "data": {
      "text/html": [
       "<div>\n",
       "<style scoped>\n",
       "    .dataframe tbody tr th:only-of-type {\n",
       "        vertical-align: middle;\n",
       "    }\n",
       "\n",
       "    .dataframe tbody tr th {\n",
       "        vertical-align: top;\n",
       "    }\n",
       "\n",
       "    .dataframe thead th {\n",
       "        text-align: right;\n",
       "    }\n",
       "</style>\n",
       "<table border=\"1\" class=\"dataframe\">\n",
       "  <thead>\n",
       "    <tr style=\"text-align: right;\">\n",
       "      <th></th>\n",
       "      <th>MachineID</th>\n",
       "      <th>Sensor1</th>\n",
       "      <th>Sensor2</th>\n",
       "      <th>Sensor3</th>\n",
       "      <th>Sensor4</th>\n",
       "      <th>DateTime</th>\n",
       "    </tr>\n",
       "  </thead>\n",
       "  <tbody>\n",
       "    <tr>\n",
       "      <th>0</th>\n",
       "      <td>MID10889</td>\n",
       "      <td>190.860059</td>\n",
       "      <td>402.956047</td>\n",
       "      <td>99.838060</td>\n",
       "      <td>32.369191</td>\n",
       "      <td>2017-01-01 06:00:00</td>\n",
       "    </tr>\n",
       "    <tr>\n",
       "      <th>1</th>\n",
       "      <td>MID10889</td>\n",
       "      <td>168.825805</td>\n",
       "      <td>437.673549</td>\n",
       "      <td>116.476080</td>\n",
       "      <td>32.046604</td>\n",
       "      <td>2017-01-01 07:00:00</td>\n",
       "    </tr>\n",
       "    <tr>\n",
       "      <th>2</th>\n",
       "      <td>MID10889</td>\n",
       "      <td>157.674385</td>\n",
       "      <td>462.601905</td>\n",
       "      <td>95.230526</td>\n",
       "      <td>53.281389</td>\n",
       "      <td>2017-01-01 08:00:00</td>\n",
       "    </tr>\n",
       "    <tr>\n",
       "      <th>3</th>\n",
       "      <td>MID10889</td>\n",
       "      <td>142.552238</td>\n",
       "      <td>515.138959</td>\n",
       "      <td>117.245483</td>\n",
       "      <td>36.525593</td>\n",
       "      <td>2017-01-01 09:00:00</td>\n",
       "    </tr>\n",
       "    <tr>\n",
       "      <th>4</th>\n",
       "      <td>MID10889</td>\n",
       "      <td>176.730195</td>\n",
       "      <td>448.725899</td>\n",
       "      <td>95.536274</td>\n",
       "      <td>44.752883</td>\n",
       "      <td>2017-01-01 10:00:00</td>\n",
       "    </tr>\n",
       "  </tbody>\n",
       "</table>\n",
       "</div>"
      ],
      "text/plain": [
       "  MachineID     Sensor1     Sensor2     Sensor3    Sensor4            DateTime\n",
       "0  MID10889  190.860059  402.956047   99.838060  32.369191 2017-01-01 06:00:00\n",
       "1  MID10889  168.825805  437.673549  116.476080  32.046604 2017-01-01 07:00:00\n",
       "2  MID10889  157.674385  462.601905   95.230526  53.281389 2017-01-01 08:00:00\n",
       "3  MID10889  142.552238  515.138959  117.245483  36.525593 2017-01-01 09:00:00\n",
       "4  MID10889  176.730195  448.725899   95.536274  44.752883 2017-01-01 10:00:00"
      ]
     },
     "execution_count": 20,
     "metadata": {},
     "output_type": "execute_result"
    }
   ],
   "source": [
    "%%time\n",
    "OperatingConditionsData.head()"
   ]
  },
  {
   "cell_type": "code",
   "execution_count": 21,
   "metadata": {
    "scrolled": true
   },
   "outputs": [],
   "source": [
    "#OperatingConditionsData['timestamp'] = pd.to_datetime(OperatingConditionsData.Year*10000+OperatingConditionsData.Month*100+OperatingConditionsData.Day,format=\"%Y%m%d\")\n",
    "#OperatingConditionsData['DateTime'] = pd.to_datetime(OperatingConditionsData['timestamp'].apply(str)+\" \"+OperatingConditionsData['Time'])\n",
    "#OperatingConditionsData.drop(['Year','Day','Month','Time','timestamp'],axis=1,inplace=True)\n",
    "#OperatingConditionsData.head()"
   ]
  },
  {
   "cell_type": "code",
   "execution_count": null,
   "metadata": {},
   "outputs": [],
   "source": []
  },
  {
   "cell_type": "code",
   "execution_count": 22,
   "metadata": {},
   "outputs": [
    {
     "name": "stdout",
     "output_type": "stream",
     "text": [
      "Total number of OperatingConditionsData records: 9211500\n",
      "Wall time: 0 ns\n"
     ]
    }
   ],
   "source": [
    "%%time\n",
    "print(\"Total number of OperatingConditionsData records: %d\" % len(OperatingConditionsData.index))"
   ]
  },
  {
   "cell_type": "markdown",
   "metadata": {},
   "source": [
    "##### Train"
   ]
  },
  {
   "cell_type": "code",
   "execution_count": 23,
   "metadata": {},
   "outputs": [
    {
     "name": "stdout",
     "output_type": "stream",
     "text": [
      "Wall time: 987 µs\n"
     ]
    },
    {
     "data": {
      "text/html": [
       "<div>\n",
       "<style scoped>\n",
       "    .dataframe tbody tr th:only-of-type {\n",
       "        vertical-align: middle;\n",
       "    }\n",
       "\n",
       "    .dataframe tbody tr th {\n",
       "        vertical-align: top;\n",
       "    }\n",
       "\n",
       "    .dataframe thead th {\n",
       "        text-align: right;\n",
       "    }\n",
       "</style>\n",
       "<table border=\"1\" class=\"dataframe\">\n",
       "  <thead>\n",
       "    <tr style=\"text-align: right;\">\n",
       "      <th></th>\n",
       "      <th>MachineID</th>\n",
       "      <th>ActionPoint</th>\n",
       "    </tr>\n",
       "  </thead>\n",
       "  <tbody>\n",
       "    <tr>\n",
       "      <th>0</th>\n",
       "      <td>MID11001</td>\n",
       "      <td>ComponentRepair</td>\n",
       "    </tr>\n",
       "    <tr>\n",
       "      <th>1</th>\n",
       "      <td>MID11002</td>\n",
       "      <td>ComponentRepair</td>\n",
       "    </tr>\n",
       "    <tr>\n",
       "      <th>2</th>\n",
       "      <td>MID11003</td>\n",
       "      <td>NoIssue</td>\n",
       "    </tr>\n",
       "    <tr>\n",
       "      <th>3</th>\n",
       "      <td>MID11004</td>\n",
       "      <td>NoIssue</td>\n",
       "    </tr>\n",
       "    <tr>\n",
       "      <th>4</th>\n",
       "      <td>MID11005</td>\n",
       "      <td>ComponentRepair</td>\n",
       "    </tr>\n",
       "  </tbody>\n",
       "</table>\n",
       "</div>"
      ],
      "text/plain": [
       "  MachineID      ActionPoint\n",
       "0  MID11001  ComponentRepair\n",
       "1  MID11002  ComponentRepair\n",
       "2  MID11003          NoIssue\n",
       "3  MID11004          NoIssue\n",
       "4  MID11005  ComponentRepair"
      ]
     },
     "execution_count": 23,
     "metadata": {},
     "output_type": "execute_result"
    }
   ],
   "source": [
    "%%time\n",
    "Train.head()"
   ]
  },
  {
   "cell_type": "code",
   "execution_count": 24,
   "metadata": {},
   "outputs": [
    {
     "name": "stdout",
     "output_type": "stream",
     "text": [
      "Total number of Train records: 674\n",
      "Wall time: 0 ns\n"
     ]
    }
   ],
   "source": [
    "%%time\n",
    "print(\"Total number of Train records: %d\" % len(Train))"
   ]
  },
  {
   "cell_type": "markdown",
   "metadata": {},
   "source": [
    "##### Test"
   ]
  },
  {
   "cell_type": "code",
   "execution_count": 25,
   "metadata": {},
   "outputs": [
    {
     "name": "stdout",
     "output_type": "stream",
     "text": [
      "Wall time: 0 ns\n"
     ]
    },
    {
     "data": {
      "text/html": [
       "<div>\n",
       "<style scoped>\n",
       "    .dataframe tbody tr th:only-of-type {\n",
       "        vertical-align: middle;\n",
       "    }\n",
       "\n",
       "    .dataframe tbody tr th {\n",
       "        vertical-align: top;\n",
       "    }\n",
       "\n",
       "    .dataframe thead th {\n",
       "        text-align: right;\n",
       "    }\n",
       "</style>\n",
       "<table border=\"1\" class=\"dataframe\">\n",
       "  <thead>\n",
       "    <tr style=\"text-align: right;\">\n",
       "      <th></th>\n",
       "      <th>MachineID</th>\n",
       "    </tr>\n",
       "  </thead>\n",
       "  <tbody>\n",
       "    <tr>\n",
       "      <th>0</th>\n",
       "      <td>MID11006</td>\n",
       "    </tr>\n",
       "    <tr>\n",
       "      <th>1</th>\n",
       "      <td>MID11007</td>\n",
       "    </tr>\n",
       "    <tr>\n",
       "      <th>2</th>\n",
       "      <td>MID11039</td>\n",
       "    </tr>\n",
       "    <tr>\n",
       "      <th>3</th>\n",
       "      <td>MID11045</td>\n",
       "    </tr>\n",
       "    <tr>\n",
       "      <th>4</th>\n",
       "      <td>MID11049</td>\n",
       "    </tr>\n",
       "  </tbody>\n",
       "</table>\n",
       "</div>"
      ],
      "text/plain": [
       "  MachineID\n",
       "0  MID11006\n",
       "1  MID11007\n",
       "2  MID11039\n",
       "3  MID11045\n",
       "4  MID11049"
      ]
     },
     "execution_count": 25,
     "metadata": {},
     "output_type": "execute_result"
    }
   ],
   "source": [
    "%%time\n",
    "Test.head()"
   ]
  },
  {
   "cell_type": "code",
   "execution_count": 26,
   "metadata": {},
   "outputs": [
    {
     "name": "stdout",
     "output_type": "stream",
     "text": [
      "Total number of Test records: 326\n",
      "Wall time: 0 ns\n"
     ]
    }
   ],
   "source": [
    "%%time\n",
    "print(\"Total number of Test records: %d\" % len(Test))"
   ]
  },
  {
   "cell_type": "markdown",
   "metadata": {},
   "source": [
    "##### preprocessing start for sample data creation"
   ]
  },
  {
   "cell_type": "code",
   "execution_count": 27,
   "metadata": {},
   "outputs": [
    {
     "name": "stdout",
     "output_type": "stream",
     "text": [
      "['ComponentRepair' 'NoIssue' 'ComponentReplacement']\n",
      "Wall time: 4.02 ms\n"
     ]
    }
   ],
   "source": [
    "%%time\n",
    "print(Train['ActionPoint'].unique())"
   ]
  },
  {
   "cell_type": "markdown",
   "metadata": {},
   "source": [
    "##### Appending the train and test data machine Id's with OperatingConditionsData and named as Sampledate"
   ]
  },
  {
   "cell_type": "code",
   "execution_count": 28,
   "metadata": {},
   "outputs": [
    {
     "name": "stdout",
     "output_type": "stream",
     "text": [
      "Wall time: 14min 9s\n"
     ]
    }
   ],
   "source": [
    "%%time\n",
    "Sampledata=pd.DataFrame(columns=OperatingConditionsData.columns)\n",
    "for machine in Train['MachineID']:\n",
    "    subset=OperatingConditionsData[OperatingConditionsData['MachineID']==machine]\n",
    "    Sampledata=Sampledata.append(subset)"
   ]
  },
  {
   "cell_type": "code",
   "execution_count": 29,
   "metadata": {},
   "outputs": [
    {
     "name": "stdout",
     "output_type": "stream",
     "text": [
      "Wall time: 7min 53s\n"
     ]
    }
   ],
   "source": [
    "%%time\n",
    "for Machine in Test['MachineID']:\n",
    "    merging=OperatingConditionsData[OperatingConditionsData['MachineID']==Machine]\n",
    "    Sampledata=Sampledata.append(merging)"
   ]
  },
  {
   "cell_type": "code",
   "execution_count": 30,
   "metadata": {},
   "outputs": [
    {
     "name": "stdout",
     "output_type": "stream",
     "text": [
      "Total number of Sampledata records: 8010000\n",
      "Wall time: 997 µs\n"
     ]
    }
   ],
   "source": [
    "%%time\n",
    "print(\"Total number of Sampledata records: %d\" % len(Sampledata))"
   ]
  },
  {
   "cell_type": "code",
   "execution_count": 31,
   "metadata": {},
   "outputs": [
    {
     "name": "stdout",
     "output_type": "stream",
     "text": [
      "Wall time: 2min 50s\n"
     ]
    }
   ],
   "source": [
    "%%time\n",
    "Sampledata.to_csv('Sampledata_sensors.csv',index=False)"
   ]
  },
  {
   "cell_type": "code",
   "execution_count": 32,
   "metadata": {},
   "outputs": [
    {
     "data": {
      "text/html": [
       "<div>\n",
       "<style scoped>\n",
       "    .dataframe tbody tr th:only-of-type {\n",
       "        vertical-align: middle;\n",
       "    }\n",
       "\n",
       "    .dataframe tbody tr th {\n",
       "        vertical-align: top;\n",
       "    }\n",
       "\n",
       "    .dataframe thead th {\n",
       "        text-align: right;\n",
       "    }\n",
       "</style>\n",
       "<table border=\"1\" class=\"dataframe\">\n",
       "  <thead>\n",
       "    <tr style=\"text-align: right;\">\n",
       "      <th></th>\n",
       "      <th>MachineID</th>\n",
       "      <th>Sensor1</th>\n",
       "      <th>Sensor2</th>\n",
       "      <th>Sensor3</th>\n",
       "      <th>Sensor4</th>\n",
       "      <th>DateTime</th>\n",
       "    </tr>\n",
       "  </thead>\n",
       "  <tbody>\n",
       "    <tr>\n",
       "      <th>1249560</th>\n",
       "      <td>MID11001</td>\n",
       "      <td>171.0095</td>\n",
       "      <td>524.7979</td>\n",
       "      <td>92.55335</td>\n",
       "      <td>43.64289</td>\n",
       "      <td>2017-01-01 06:00:00</td>\n",
       "    </tr>\n",
       "    <tr>\n",
       "      <th>1249561</th>\n",
       "      <td>MID11001</td>\n",
       "      <td>167.8992</td>\n",
       "      <td>456.0629</td>\n",
       "      <td>90.13715</td>\n",
       "      <td>38.41209</td>\n",
       "      <td>2017-01-01 07:00:00</td>\n",
       "    </tr>\n",
       "    <tr>\n",
       "      <th>1249562</th>\n",
       "      <td>MID11001</td>\n",
       "      <td>178.2850</td>\n",
       "      <td>550.4961</td>\n",
       "      <td>96.20799</td>\n",
       "      <td>44.89582</td>\n",
       "      <td>2017-01-01 08:00:00</td>\n",
       "    </tr>\n",
       "    <tr>\n",
       "      <th>1249563</th>\n",
       "      <td>MID11001</td>\n",
       "      <td>161.4974</td>\n",
       "      <td>471.0561</td>\n",
       "      <td>109.25490</td>\n",
       "      <td>36.64527</td>\n",
       "      <td>2017-01-01 09:00:00</td>\n",
       "    </tr>\n",
       "    <tr>\n",
       "      <th>1249564</th>\n",
       "      <td>MID11001</td>\n",
       "      <td>167.3764</td>\n",
       "      <td>448.8128</td>\n",
       "      <td>83.62342</td>\n",
       "      <td>45.32505</td>\n",
       "      <td>2017-01-01 10:00:00</td>\n",
       "    </tr>\n",
       "  </tbody>\n",
       "</table>\n",
       "</div>"
      ],
      "text/plain": [
       "        MachineID   Sensor1   Sensor2    Sensor3   Sensor4            DateTime\n",
       "1249560  MID11001  171.0095  524.7979   92.55335  43.64289 2017-01-01 06:00:00\n",
       "1249561  MID11001  167.8992  456.0629   90.13715  38.41209 2017-01-01 07:00:00\n",
       "1249562  MID11001  178.2850  550.4961   96.20799  44.89582 2017-01-01 08:00:00\n",
       "1249563  MID11001  161.4974  471.0561  109.25490  36.64527 2017-01-01 09:00:00\n",
       "1249564  MID11001  167.3764  448.8128   83.62342  45.32505 2017-01-01 10:00:00"
      ]
     },
     "execution_count": 32,
     "metadata": {},
     "output_type": "execute_result"
    }
   ],
   "source": [
    "Sampledata.head()"
   ]
  },
  {
   "cell_type": "code",
   "execution_count": null,
   "metadata": {},
   "outputs": [],
   "source": []
  },
  {
   "cell_type": "markdown",
   "metadata": {},
   "source": [
    "##### concatenating the ComplaintsLog with the Sample data#"
   ]
  },
  {
   "cell_type": "code",
   "execution_count": 33,
   "metadata": {},
   "outputs": [
    {
     "name": "stdout",
     "output_type": "stream",
     "text": [
      "Wall time: 5.89 s\n"
     ]
    }
   ],
   "source": [
    "%%time\n",
    "Sampledata_with_complaintlogs = pd.merge(Sampledata, ComplaintsLog, how='left', on=['DateTime','MachineID'])"
   ]
  },
  {
   "cell_type": "code",
   "execution_count": 34,
   "metadata": {},
   "outputs": [
    {
     "name": "stdout",
     "output_type": "stream",
     "text": [
      "Wall time: 1.99 ms\n"
     ]
    },
    {
     "data": {
      "text/html": [
       "<div>\n",
       "<style scoped>\n",
       "    .dataframe tbody tr th:only-of-type {\n",
       "        vertical-align: middle;\n",
       "    }\n",
       "\n",
       "    .dataframe tbody tr th {\n",
       "        vertical-align: top;\n",
       "    }\n",
       "\n",
       "    .dataframe thead th {\n",
       "        text-align: right;\n",
       "    }\n",
       "</style>\n",
       "<table border=\"1\" class=\"dataframe\">\n",
       "  <thead>\n",
       "    <tr style=\"text-align: right;\">\n",
       "      <th></th>\n",
       "      <th>MachineID</th>\n",
       "      <th>Sensor1</th>\n",
       "      <th>Sensor2</th>\n",
       "      <th>Sensor3</th>\n",
       "      <th>Sensor4</th>\n",
       "      <th>DateTime</th>\n",
       "      <th>ErrorID</th>\n",
       "    </tr>\n",
       "  </thead>\n",
       "  <tbody>\n",
       "    <tr>\n",
       "      <th>0</th>\n",
       "      <td>MID11001</td>\n",
       "      <td>171.0095</td>\n",
       "      <td>524.7979</td>\n",
       "      <td>92.55335</td>\n",
       "      <td>43.64289</td>\n",
       "      <td>2017-01-01 06:00:00</td>\n",
       "      <td>NaN</td>\n",
       "    </tr>\n",
       "    <tr>\n",
       "      <th>1</th>\n",
       "      <td>MID11001</td>\n",
       "      <td>167.8992</td>\n",
       "      <td>456.0629</td>\n",
       "      <td>90.13715</td>\n",
       "      <td>38.41209</td>\n",
       "      <td>2017-01-01 07:00:00</td>\n",
       "      <td>NaN</td>\n",
       "    </tr>\n",
       "    <tr>\n",
       "      <th>2</th>\n",
       "      <td>MID11001</td>\n",
       "      <td>178.2850</td>\n",
       "      <td>550.4961</td>\n",
       "      <td>96.20799</td>\n",
       "      <td>44.89582</td>\n",
       "      <td>2017-01-01 08:00:00</td>\n",
       "      <td>NaN</td>\n",
       "    </tr>\n",
       "    <tr>\n",
       "      <th>3</th>\n",
       "      <td>MID11001</td>\n",
       "      <td>161.4974</td>\n",
       "      <td>471.0561</td>\n",
       "      <td>109.25490</td>\n",
       "      <td>36.64527</td>\n",
       "      <td>2017-01-01 09:00:00</td>\n",
       "      <td>NaN</td>\n",
       "    </tr>\n",
       "    <tr>\n",
       "      <th>4</th>\n",
       "      <td>MID11001</td>\n",
       "      <td>167.3764</td>\n",
       "      <td>448.8128</td>\n",
       "      <td>83.62342</td>\n",
       "      <td>45.32505</td>\n",
       "      <td>2017-01-01 10:00:00</td>\n",
       "      <td>NaN</td>\n",
       "    </tr>\n",
       "  </tbody>\n",
       "</table>\n",
       "</div>"
      ],
      "text/plain": [
       "  MachineID   Sensor1   Sensor2    Sensor3   Sensor4            DateTime  \\\n",
       "0  MID11001  171.0095  524.7979   92.55335  43.64289 2017-01-01 06:00:00   \n",
       "1  MID11001  167.8992  456.0629   90.13715  38.41209 2017-01-01 07:00:00   \n",
       "2  MID11001  178.2850  550.4961   96.20799  44.89582 2017-01-01 08:00:00   \n",
       "3  MID11001  161.4974  471.0561  109.25490  36.64527 2017-01-01 09:00:00   \n",
       "4  MID11001  167.3764  448.8128   83.62342  45.32505 2017-01-01 10:00:00   \n",
       "\n",
       "  ErrorID  \n",
       "0     NaN  \n",
       "1     NaN  \n",
       "2     NaN  \n",
       "3     NaN  \n",
       "4     NaN  "
      ]
     },
     "execution_count": 34,
     "metadata": {},
     "output_type": "execute_result"
    }
   ],
   "source": [
    "%%time\n",
    "Sampledata_with_complaintlogs.head()"
   ]
  },
  {
   "cell_type": "markdown",
   "metadata": {},
   "source": [
    "##### concatinating the Sampledata_with_complaintlogs with ComponentReplacementLog"
   ]
  },
  {
   "cell_type": "code",
   "execution_count": 35,
   "metadata": {},
   "outputs": [
    {
     "name": "stdout",
     "output_type": "stream",
     "text": [
      "Wall time: 10.2 s\n"
     ]
    }
   ],
   "source": [
    "%%time\n",
    "Sampledata_with_ComponentReplacementLog=pd.merge(Sampledata_with_complaintlogs, ComponentReplacementLog, how='left', on=['DateTime','MachineID'])"
   ]
  },
  {
   "cell_type": "code",
   "execution_count": 36,
   "metadata": {},
   "outputs": [
    {
     "name": "stdout",
     "output_type": "stream",
     "text": [
      "Wall time: 999 µs\n"
     ]
    },
    {
     "data": {
      "text/html": [
       "<div>\n",
       "<style scoped>\n",
       "    .dataframe tbody tr th:only-of-type {\n",
       "        vertical-align: middle;\n",
       "    }\n",
       "\n",
       "    .dataframe tbody tr th {\n",
       "        vertical-align: top;\n",
       "    }\n",
       "\n",
       "    .dataframe thead th {\n",
       "        text-align: right;\n",
       "    }\n",
       "</style>\n",
       "<table border=\"1\" class=\"dataframe\">\n",
       "  <thead>\n",
       "    <tr style=\"text-align: right;\">\n",
       "      <th></th>\n",
       "      <th>MachineID</th>\n",
       "      <th>Sensor1</th>\n",
       "      <th>Sensor2</th>\n",
       "      <th>Sensor3</th>\n",
       "      <th>Sensor4</th>\n",
       "      <th>DateTime</th>\n",
       "      <th>ErrorID</th>\n",
       "      <th>ComponentReplacement</th>\n",
       "    </tr>\n",
       "  </thead>\n",
       "  <tbody>\n",
       "    <tr>\n",
       "      <th>0</th>\n",
       "      <td>MID11001</td>\n",
       "      <td>171.0095</td>\n",
       "      <td>524.7979</td>\n",
       "      <td>92.55335</td>\n",
       "      <td>43.64289</td>\n",
       "      <td>2017-01-01 06:00:00</td>\n",
       "      <td>NaN</td>\n",
       "      <td>NaN</td>\n",
       "    </tr>\n",
       "    <tr>\n",
       "      <th>1</th>\n",
       "      <td>MID11001</td>\n",
       "      <td>167.8992</td>\n",
       "      <td>456.0629</td>\n",
       "      <td>90.13715</td>\n",
       "      <td>38.41209</td>\n",
       "      <td>2017-01-01 07:00:00</td>\n",
       "      <td>NaN</td>\n",
       "      <td>NaN</td>\n",
       "    </tr>\n",
       "    <tr>\n",
       "      <th>2</th>\n",
       "      <td>MID11001</td>\n",
       "      <td>178.2850</td>\n",
       "      <td>550.4961</td>\n",
       "      <td>96.20799</td>\n",
       "      <td>44.89582</td>\n",
       "      <td>2017-01-01 08:00:00</td>\n",
       "      <td>NaN</td>\n",
       "      <td>NaN</td>\n",
       "    </tr>\n",
       "    <tr>\n",
       "      <th>3</th>\n",
       "      <td>MID11001</td>\n",
       "      <td>161.4974</td>\n",
       "      <td>471.0561</td>\n",
       "      <td>109.25490</td>\n",
       "      <td>36.64527</td>\n",
       "      <td>2017-01-01 09:00:00</td>\n",
       "      <td>NaN</td>\n",
       "      <td>NaN</td>\n",
       "    </tr>\n",
       "    <tr>\n",
       "      <th>4</th>\n",
       "      <td>MID11001</td>\n",
       "      <td>167.3764</td>\n",
       "      <td>448.8128</td>\n",
       "      <td>83.62342</td>\n",
       "      <td>45.32505</td>\n",
       "      <td>2017-01-01 10:00:00</td>\n",
       "      <td>NaN</td>\n",
       "      <td>NaN</td>\n",
       "    </tr>\n",
       "  </tbody>\n",
       "</table>\n",
       "</div>"
      ],
      "text/plain": [
       "  MachineID   Sensor1   Sensor2    Sensor3   Sensor4            DateTime  \\\n",
       "0  MID11001  171.0095  524.7979   92.55335  43.64289 2017-01-01 06:00:00   \n",
       "1  MID11001  167.8992  456.0629   90.13715  38.41209 2017-01-01 07:00:00   \n",
       "2  MID11001  178.2850  550.4961   96.20799  44.89582 2017-01-01 08:00:00   \n",
       "3  MID11001  161.4974  471.0561  109.25490  36.64527 2017-01-01 09:00:00   \n",
       "4  MID11001  167.3764  448.8128   83.62342  45.32505 2017-01-01 10:00:00   \n",
       "\n",
       "  ErrorID ComponentReplacement  \n",
       "0     NaN                  NaN  \n",
       "1     NaN                  NaN  \n",
       "2     NaN                  NaN  \n",
       "3     NaN                  NaN  \n",
       "4     NaN                  NaN  "
      ]
     },
     "execution_count": 36,
     "metadata": {},
     "output_type": "execute_result"
    }
   ],
   "source": [
    "%%time\n",
    "Sampledata_with_ComponentReplacementLog.head()"
   ]
  },
  {
   "cell_type": "markdown",
   "metadata": {},
   "source": [
    "##### concatinating the Sampledata_with_ComponentReplacementLog with ComponentServiceLog"
   ]
  },
  {
   "cell_type": "code",
   "execution_count": 37,
   "metadata": {},
   "outputs": [
    {
     "name": "stdout",
     "output_type": "stream",
     "text": [
      "Wall time: 9.46 s\n"
     ]
    }
   ],
   "source": [
    "%%time\n",
    "Sampledata_with_ComponentServiceLog=pd.merge(Sampledata_with_ComponentReplacementLog, ComponentServiceLog, how='left', on=['DateTime','MachineID'])"
   ]
  },
  {
   "cell_type": "code",
   "execution_count": 38,
   "metadata": {},
   "outputs": [
    {
     "data": {
      "text/html": [
       "<div>\n",
       "<style scoped>\n",
       "    .dataframe tbody tr th:only-of-type {\n",
       "        vertical-align: middle;\n",
       "    }\n",
       "\n",
       "    .dataframe tbody tr th {\n",
       "        vertical-align: top;\n",
       "    }\n",
       "\n",
       "    .dataframe thead th {\n",
       "        text-align: right;\n",
       "    }\n",
       "</style>\n",
       "<table border=\"1\" class=\"dataframe\">\n",
       "  <thead>\n",
       "    <tr style=\"text-align: right;\">\n",
       "      <th></th>\n",
       "      <th>MachineID</th>\n",
       "      <th>Sensor1</th>\n",
       "      <th>Sensor2</th>\n",
       "      <th>Sensor3</th>\n",
       "      <th>Sensor4</th>\n",
       "      <th>DateTime</th>\n",
       "      <th>ErrorID</th>\n",
       "      <th>ComponentReplacement</th>\n",
       "      <th>ComponentAttended</th>\n",
       "      <th>ServiceType</th>\n",
       "    </tr>\n",
       "  </thead>\n",
       "  <tbody>\n",
       "    <tr>\n",
       "      <th>0</th>\n",
       "      <td>MID11001</td>\n",
       "      <td>171.0095</td>\n",
       "      <td>524.7979</td>\n",
       "      <td>92.55335</td>\n",
       "      <td>43.64289</td>\n",
       "      <td>2017-01-01 06:00:00</td>\n",
       "      <td>NaN</td>\n",
       "      <td>NaN</td>\n",
       "      <td>NaN</td>\n",
       "      <td>NaN</td>\n",
       "    </tr>\n",
       "    <tr>\n",
       "      <th>1</th>\n",
       "      <td>MID11001</td>\n",
       "      <td>167.8992</td>\n",
       "      <td>456.0629</td>\n",
       "      <td>90.13715</td>\n",
       "      <td>38.41209</td>\n",
       "      <td>2017-01-01 07:00:00</td>\n",
       "      <td>NaN</td>\n",
       "      <td>NaN</td>\n",
       "      <td>NaN</td>\n",
       "      <td>NaN</td>\n",
       "    </tr>\n",
       "    <tr>\n",
       "      <th>2</th>\n",
       "      <td>MID11001</td>\n",
       "      <td>178.2850</td>\n",
       "      <td>550.4961</td>\n",
       "      <td>96.20799</td>\n",
       "      <td>44.89582</td>\n",
       "      <td>2017-01-01 08:00:00</td>\n",
       "      <td>NaN</td>\n",
       "      <td>NaN</td>\n",
       "      <td>NaN</td>\n",
       "      <td>NaN</td>\n",
       "    </tr>\n",
       "    <tr>\n",
       "      <th>3</th>\n",
       "      <td>MID11001</td>\n",
       "      <td>161.4974</td>\n",
       "      <td>471.0561</td>\n",
       "      <td>109.25490</td>\n",
       "      <td>36.64527</td>\n",
       "      <td>2017-01-01 09:00:00</td>\n",
       "      <td>NaN</td>\n",
       "      <td>NaN</td>\n",
       "      <td>NaN</td>\n",
       "      <td>NaN</td>\n",
       "    </tr>\n",
       "    <tr>\n",
       "      <th>4</th>\n",
       "      <td>MID11001</td>\n",
       "      <td>167.3764</td>\n",
       "      <td>448.8128</td>\n",
       "      <td>83.62342</td>\n",
       "      <td>45.32505</td>\n",
       "      <td>2017-01-01 10:00:00</td>\n",
       "      <td>NaN</td>\n",
       "      <td>NaN</td>\n",
       "      <td>NaN</td>\n",
       "      <td>NaN</td>\n",
       "    </tr>\n",
       "  </tbody>\n",
       "</table>\n",
       "</div>"
      ],
      "text/plain": [
       "  MachineID   Sensor1   Sensor2    Sensor3   Sensor4            DateTime  \\\n",
       "0  MID11001  171.0095  524.7979   92.55335  43.64289 2017-01-01 06:00:00   \n",
       "1  MID11001  167.8992  456.0629   90.13715  38.41209 2017-01-01 07:00:00   \n",
       "2  MID11001  178.2850  550.4961   96.20799  44.89582 2017-01-01 08:00:00   \n",
       "3  MID11001  161.4974  471.0561  109.25490  36.64527 2017-01-01 09:00:00   \n",
       "4  MID11001  167.3764  448.8128   83.62342  45.32505 2017-01-01 10:00:00   \n",
       "\n",
       "  ErrorID ComponentReplacement ComponentAttended ServiceType  \n",
       "0     NaN                  NaN               NaN         NaN  \n",
       "1     NaN                  NaN               NaN         NaN  \n",
       "2     NaN                  NaN               NaN         NaN  \n",
       "3     NaN                  NaN               NaN         NaN  \n",
       "4     NaN                  NaN               NaN         NaN  "
      ]
     },
     "execution_count": 38,
     "metadata": {},
     "output_type": "execute_result"
    }
   ],
   "source": [
    "Sampledata_with_ComponentServiceLog.head()"
   ]
  },
  {
   "cell_type": "code",
   "execution_count": 39,
   "metadata": {},
   "outputs": [
    {
     "name": "stdout",
     "output_type": "stream",
     "text": [
      "Wall time: 3.96 s\n"
     ]
    }
   ],
   "source": [
    "%%time\n",
    "Sampledata_with_ALL=Sampledata_with_ComponentServiceLog.copy()"
   ]
  },
  {
   "cell_type": "code",
   "execution_count": 40,
   "metadata": {},
   "outputs": [
    {
     "name": "stdout",
     "output_type": "stream",
     "text": [
      "Wall time: 998 µs\n"
     ]
    },
    {
     "data": {
      "text/html": [
       "<div>\n",
       "<style scoped>\n",
       "    .dataframe tbody tr th:only-of-type {\n",
       "        vertical-align: middle;\n",
       "    }\n",
       "\n",
       "    .dataframe tbody tr th {\n",
       "        vertical-align: top;\n",
       "    }\n",
       "\n",
       "    .dataframe thead th {\n",
       "        text-align: right;\n",
       "    }\n",
       "</style>\n",
       "<table border=\"1\" class=\"dataframe\">\n",
       "  <thead>\n",
       "    <tr style=\"text-align: right;\">\n",
       "      <th></th>\n",
       "      <th>MachineID</th>\n",
       "      <th>Sensor1</th>\n",
       "      <th>Sensor2</th>\n",
       "      <th>Sensor3</th>\n",
       "      <th>Sensor4</th>\n",
       "      <th>DateTime</th>\n",
       "      <th>ErrorID</th>\n",
       "      <th>ComponentReplacement</th>\n",
       "      <th>ComponentAttended</th>\n",
       "      <th>ServiceType</th>\n",
       "    </tr>\n",
       "  </thead>\n",
       "  <tbody>\n",
       "    <tr>\n",
       "      <th>0</th>\n",
       "      <td>MID11001</td>\n",
       "      <td>171.0095</td>\n",
       "      <td>524.7979</td>\n",
       "      <td>92.55335</td>\n",
       "      <td>43.64289</td>\n",
       "      <td>2017-01-01 06:00:00</td>\n",
       "      <td>NaN</td>\n",
       "      <td>NaN</td>\n",
       "      <td>NaN</td>\n",
       "      <td>NaN</td>\n",
       "    </tr>\n",
       "    <tr>\n",
       "      <th>1</th>\n",
       "      <td>MID11001</td>\n",
       "      <td>167.8992</td>\n",
       "      <td>456.0629</td>\n",
       "      <td>90.13715</td>\n",
       "      <td>38.41209</td>\n",
       "      <td>2017-01-01 07:00:00</td>\n",
       "      <td>NaN</td>\n",
       "      <td>NaN</td>\n",
       "      <td>NaN</td>\n",
       "      <td>NaN</td>\n",
       "    </tr>\n",
       "    <tr>\n",
       "      <th>2</th>\n",
       "      <td>MID11001</td>\n",
       "      <td>178.2850</td>\n",
       "      <td>550.4961</td>\n",
       "      <td>96.20799</td>\n",
       "      <td>44.89582</td>\n",
       "      <td>2017-01-01 08:00:00</td>\n",
       "      <td>NaN</td>\n",
       "      <td>NaN</td>\n",
       "      <td>NaN</td>\n",
       "      <td>NaN</td>\n",
       "    </tr>\n",
       "    <tr>\n",
       "      <th>3</th>\n",
       "      <td>MID11001</td>\n",
       "      <td>161.4974</td>\n",
       "      <td>471.0561</td>\n",
       "      <td>109.25490</td>\n",
       "      <td>36.64527</td>\n",
       "      <td>2017-01-01 09:00:00</td>\n",
       "      <td>NaN</td>\n",
       "      <td>NaN</td>\n",
       "      <td>NaN</td>\n",
       "      <td>NaN</td>\n",
       "    </tr>\n",
       "    <tr>\n",
       "      <th>4</th>\n",
       "      <td>MID11001</td>\n",
       "      <td>167.3764</td>\n",
       "      <td>448.8128</td>\n",
       "      <td>83.62342</td>\n",
       "      <td>45.32505</td>\n",
       "      <td>2017-01-01 10:00:00</td>\n",
       "      <td>NaN</td>\n",
       "      <td>NaN</td>\n",
       "      <td>NaN</td>\n",
       "      <td>NaN</td>\n",
       "    </tr>\n",
       "  </tbody>\n",
       "</table>\n",
       "</div>"
      ],
      "text/plain": [
       "  MachineID   Sensor1   Sensor2    Sensor3   Sensor4            DateTime  \\\n",
       "0  MID11001  171.0095  524.7979   92.55335  43.64289 2017-01-01 06:00:00   \n",
       "1  MID11001  167.8992  456.0629   90.13715  38.41209 2017-01-01 07:00:00   \n",
       "2  MID11001  178.2850  550.4961   96.20799  44.89582 2017-01-01 08:00:00   \n",
       "3  MID11001  161.4974  471.0561  109.25490  36.64527 2017-01-01 09:00:00   \n",
       "4  MID11001  167.3764  448.8128   83.62342  45.32505 2017-01-01 10:00:00   \n",
       "\n",
       "  ErrorID ComponentReplacement ComponentAttended ServiceType  \n",
       "0     NaN                  NaN               NaN         NaN  \n",
       "1     NaN                  NaN               NaN         NaN  \n",
       "2     NaN                  NaN               NaN         NaN  \n",
       "3     NaN                  NaN               NaN         NaN  \n",
       "4     NaN                  NaN               NaN         NaN  "
      ]
     },
     "execution_count": 40,
     "metadata": {},
     "output_type": "execute_result"
    }
   ],
   "source": [
    "%%time\n",
    "Sampledata_with_ALL.head()"
   ]
  },
  {
   "cell_type": "code",
   "execution_count": 41,
   "metadata": {},
   "outputs": [
    {
     "name": "stdout",
     "output_type": "stream",
     "text": [
      "Wall time: 2min 15s\n"
     ]
    }
   ],
   "source": [
    "%%time\n",
    "Sampledata_with_ALL.to_csv('Sampledata_final_sai.csv',index=False)"
   ]
  },
  {
   "cell_type": "code",
   "execution_count": 42,
   "metadata": {},
   "outputs": [
    {
     "name": "stdout",
     "output_type": "stream",
     "text": [
      "Wall time: 529 ms\n"
     ]
    },
    {
     "data": {
      "text/html": [
       "<div>\n",
       "<style scoped>\n",
       "    .dataframe tbody tr th:only-of-type {\n",
       "        vertical-align: middle;\n",
       "    }\n",
       "\n",
       "    .dataframe tbody tr th {\n",
       "        vertical-align: top;\n",
       "    }\n",
       "\n",
       "    .dataframe thead th {\n",
       "        text-align: right;\n",
       "    }\n",
       "</style>\n",
       "<table border=\"1\" class=\"dataframe\">\n",
       "  <thead>\n",
       "    <tr style=\"text-align: right;\">\n",
       "      <th></th>\n",
       "      <th>MachineID</th>\n",
       "      <th>Sensor1</th>\n",
       "      <th>Sensor2</th>\n",
       "      <th>Sensor3</th>\n",
       "      <th>Sensor4</th>\n",
       "      <th>DateTime</th>\n",
       "      <th>ErrorID</th>\n",
       "      <th>ComponentReplacement</th>\n",
       "      <th>ComponentAttended</th>\n",
       "      <th>ServiceType</th>\n",
       "    </tr>\n",
       "  </thead>\n",
       "  <tbody>\n",
       "    <tr>\n",
       "      <th>385</th>\n",
       "      <td>MID11001</td>\n",
       "      <td>197.5125</td>\n",
       "      <td>467.0171</td>\n",
       "      <td>91.26238</td>\n",
       "      <td>38.21537</td>\n",
       "      <td>2017-01-17 06:00:00</td>\n",
       "      <td>NaN</td>\n",
       "      <td>Component2</td>\n",
       "      <td>Component2</td>\n",
       "      <td>ComponentRepair</td>\n",
       "    </tr>\n",
       "    <tr>\n",
       "      <th>745</th>\n",
       "      <td>MID11001</td>\n",
       "      <td>195.5170</td>\n",
       "      <td>421.6400</td>\n",
       "      <td>91.07490</td>\n",
       "      <td>35.53949</td>\n",
       "      <td>2017-02-01 06:00:00</td>\n",
       "      <td>NaN</td>\n",
       "      <td>Component1</td>\n",
       "      <td>Component3</td>\n",
       "      <td>ScheduledService</td>\n",
       "    </tr>\n",
       "    <tr>\n",
       "      <th>746</th>\n",
       "      <td>MID11001</td>\n",
       "      <td>195.5170</td>\n",
       "      <td>421.6400</td>\n",
       "      <td>91.07490</td>\n",
       "      <td>35.53949</td>\n",
       "      <td>2017-02-01 06:00:00</td>\n",
       "      <td>NaN</td>\n",
       "      <td>Component1</td>\n",
       "      <td>Component1</td>\n",
       "      <td>ScheduledService</td>\n",
       "    </tr>\n",
       "    <tr>\n",
       "      <th>2548</th>\n",
       "      <td>MID11001</td>\n",
       "      <td>200.3626</td>\n",
       "      <td>539.3080</td>\n",
       "      <td>102.11670</td>\n",
       "      <td>48.46384</td>\n",
       "      <td>2017-04-17 06:00:00</td>\n",
       "      <td>NaN</td>\n",
       "      <td>Component1</td>\n",
       "      <td>Component1</td>\n",
       "      <td>ComponentRepair</td>\n",
       "    </tr>\n",
       "    <tr>\n",
       "      <th>2549</th>\n",
       "      <td>MID11001</td>\n",
       "      <td>200.3626</td>\n",
       "      <td>539.3080</td>\n",
       "      <td>102.11670</td>\n",
       "      <td>48.46384</td>\n",
       "      <td>2017-04-17 06:00:00</td>\n",
       "      <td>NaN</td>\n",
       "      <td>Component1</td>\n",
       "      <td>Component4</td>\n",
       "      <td>ComponentRepair</td>\n",
       "    </tr>\n",
       "  </tbody>\n",
       "</table>\n",
       "</div>"
      ],
      "text/plain": [
       "     MachineID   Sensor1   Sensor2    Sensor3   Sensor4            DateTime  \\\n",
       "385   MID11001  197.5125  467.0171   91.26238  38.21537 2017-01-17 06:00:00   \n",
       "745   MID11001  195.5170  421.6400   91.07490  35.53949 2017-02-01 06:00:00   \n",
       "746   MID11001  195.5170  421.6400   91.07490  35.53949 2017-02-01 06:00:00   \n",
       "2548  MID11001  200.3626  539.3080  102.11670  48.46384 2017-04-17 06:00:00   \n",
       "2549  MID11001  200.3626  539.3080  102.11670  48.46384 2017-04-17 06:00:00   \n",
       "\n",
       "     ErrorID ComponentReplacement ComponentAttended       ServiceType  \n",
       "385      NaN           Component2        Component2   ComponentRepair  \n",
       "745      NaN           Component1        Component3  ScheduledService  \n",
       "746      NaN           Component1        Component1  ScheduledService  \n",
       "2548     NaN           Component1        Component1   ComponentRepair  \n",
       "2549     NaN           Component1        Component4   ComponentRepair  "
      ]
     },
     "execution_count": 42,
     "metadata": {},
     "output_type": "execute_result"
    }
   ],
   "source": [
    "%%time\n",
    "Sampledata_with_ALL[Sampledata_with_ALL.ComponentReplacement.notnull()].head()"
   ]
  },
  {
   "cell_type": "code",
   "execution_count": 43,
   "metadata": {},
   "outputs": [
    {
     "name": "stdout",
     "output_type": "stream",
     "text": [
      "Wall time: 587 ms\n"
     ]
    },
    {
     "data": {
      "text/plain": [
       "array(['MID11001', 'MID11002', 'MID11003', 'MID11004', 'MID11005',\n",
       "       'MID11008', 'MID11009', 'MID11010', 'MID11011', 'MID11012',\n",
       "       'MID11013', 'MID11014', 'MID11015', 'MID11016', 'MID11017',\n",
       "       'MID11018', 'MID11019', 'MID11020', 'MID11021', 'MID11022',\n",
       "       'MID11023', 'MID11024', 'MID11025', 'MID11026', 'MID11027',\n",
       "       'MID11028', 'MID11029', 'MID11030', 'MID11031', 'MID11032',\n",
       "       'MID11033', 'MID11034', 'MID11035', 'MID11036', 'MID11037',\n",
       "       'MID11038', 'MID11040', 'MID11041', 'MID11042', 'MID11043',\n",
       "       'MID11044', 'MID11046', 'MID11047', 'MID11048', 'MID11050',\n",
       "       'MID11051', 'MID11053', 'MID11054', 'MID11055', 'MID11056',\n",
       "       'MID11057', 'MID11058', 'MID11059', 'MID11060', 'MID11061',\n",
       "       'MID11062', 'MID11063', 'MID11064', 'MID11065', 'MID11066',\n",
       "       'MID11067', 'MID11068', 'MID11070', 'MID11071', 'MID11073',\n",
       "       'MID11075', 'MID11076', 'MID11078', 'MID11079', 'MID11081',\n",
       "       'MID11082', 'MID11083', 'MID11084', 'MID11085', 'MID11086',\n",
       "       'MID11087', 'MID11088', 'MID11089', 'MID11090', 'MID11091',\n",
       "       'MID11092', 'MID11093', 'MID11094', 'MID11095', 'MID11096',\n",
       "       'MID11097', 'MID11098', 'MID11099', 'MID11100', 'MID11101',\n",
       "       'MID11102', 'MID11103', 'MID11104', 'MID11105', 'MID11106',\n",
       "       'MID11107', 'MID11108', 'MID11111', 'MID11112', 'MID11114',\n",
       "       'MID11115', 'MID11116', 'MID11118', 'MID11119', 'MID11120',\n",
       "       'MID11121', 'MID11122', 'MID11123', 'MID11124', 'MID11125',\n",
       "       'MID11126', 'MID11129', 'MID11131', 'MID11132', 'MID11134',\n",
       "       'MID11135', 'MID11136', 'MID11137', 'MID11138', 'MID11139',\n",
       "       'MID11140', 'MID11141', 'MID11143', 'MID11144', 'MID11145',\n",
       "       'MID11146', 'MID11147', 'MID11148', 'MID11150', 'MID11151',\n",
       "       'MID11152', 'MID11154', 'MID11155', 'MID11157', 'MID11159',\n",
       "       'MID11160', 'MID11162', 'MID11163', 'MID11164', 'MID11165',\n",
       "       'MID11167', 'MID11168', 'MID11169', 'MID11170', 'MID11171',\n",
       "       'MID11173', 'MID11174', 'MID11175', 'MID11176', 'MID11177',\n",
       "       'MID11178', 'MID11179', 'MID11180', 'MID11182', 'MID11183',\n",
       "       'MID11184', 'MID11185', 'MID11187', 'MID11188', 'MID11191',\n",
       "       'MID11192', 'MID11193', 'MID11194', 'MID11195', 'MID11196',\n",
       "       'MID11197', 'MID11198', 'MID11199', 'MID11200', 'MID11201',\n",
       "       'MID11202', 'MID11203', 'MID11204', 'MID11206', 'MID11207',\n",
       "       'MID11208', 'MID11210', 'MID11211', 'MID11213', 'MID11214',\n",
       "       'MID11216', 'MID11217', 'MID11218', 'MID11219', 'MID11220',\n",
       "       'MID11221', 'MID11222', 'MID11223', 'MID11224', 'MID11225',\n",
       "       'MID11226', 'MID11227', 'MID11229', 'MID11230', 'MID11231',\n",
       "       'MID11232', 'MID11234', 'MID11235', 'MID11237', 'MID11238',\n",
       "       'MID11239', 'MID11242', 'MID11243', 'MID11244', 'MID11245',\n",
       "       'MID11246', 'MID11247', 'MID11248', 'MID11249', 'MID11251',\n",
       "       'MID11252', 'MID11253', 'MID11255', 'MID11256', 'MID11258',\n",
       "       'MID11259', 'MID11260', 'MID11261', 'MID11262', 'MID11263',\n",
       "       'MID11264', 'MID11265', 'MID11266', 'MID11267', 'MID11270',\n",
       "       'MID11271', 'MID11272', 'MID11273', 'MID11274', 'MID11275',\n",
       "       'MID11276', 'MID11277', 'MID11278', 'MID11279', 'MID11281',\n",
       "       'MID11283', 'MID11284', 'MID11285', 'MID11286', 'MID11287',\n",
       "       'MID11289', 'MID11291', 'MID11292', 'MID11293', 'MID11294',\n",
       "       'MID11295', 'MID11296', 'MID11299', 'MID11300', 'MID11301',\n",
       "       'MID11302', 'MID11303', 'MID11306', 'MID11307', 'MID11308',\n",
       "       'MID11309', 'MID11310', 'MID11311', 'MID11312', 'MID11314',\n",
       "       'MID11315', 'MID11317', 'MID11318', 'MID11320', 'MID11321',\n",
       "       'MID11322', 'MID11323', 'MID11325', 'MID11326', 'MID11327',\n",
       "       'MID11328', 'MID11330', 'MID11332', 'MID11333', 'MID11334',\n",
       "       'MID11335', 'MID11336', 'MID11338', 'MID11340', 'MID11341',\n",
       "       'MID11342', 'MID11343', 'MID11344', 'MID11346', 'MID11347',\n",
       "       'MID11348', 'MID11349', 'MID11351', 'MID11352', 'MID11353',\n",
       "       'MID11355', 'MID11356', 'MID11359', 'MID11360', 'MID11362',\n",
       "       'MID11363', 'MID11364', 'MID11366', 'MID11367', 'MID11372',\n",
       "       'MID11373', 'MID11374', 'MID11375', 'MID11377', 'MID11378',\n",
       "       'MID11380', 'MID11381', 'MID11382', 'MID11383', 'MID11384',\n",
       "       'MID11385', 'MID11386', 'MID11387', 'MID11389', 'MID11390',\n",
       "       'MID11392', 'MID11394', 'MID11395', 'MID11396', 'MID11397',\n",
       "       'MID11398', 'MID11399', 'MID11400', 'MID11401', 'MID11403',\n",
       "       'MID11404', 'MID11405', 'MID11406', 'MID11407', 'MID11410',\n",
       "       'MID11411', 'MID11413', 'MID11415', 'MID11416', 'MID11417',\n",
       "       'MID11419', 'MID11420', 'MID11421', 'MID11422', 'MID11423',\n",
       "       'MID11424', 'MID11425', 'MID11426', 'MID11428', 'MID11429',\n",
       "       'MID11430', 'MID11431', 'MID11433', 'MID11434', 'MID11435',\n",
       "       'MID11436', 'MID11438', 'MID11440', 'MID11441', 'MID11442',\n",
       "       'MID11443', 'MID11444', 'MID11445', 'MID11446', 'MID11447',\n",
       "       'MID11448', 'MID11449', 'MID11450', 'MID11451', 'MID11453',\n",
       "       'MID11454', 'MID11455', 'MID11457', 'MID11458', 'MID11459',\n",
       "       'MID11460', 'MID11462', 'MID11464', 'MID11465', 'MID11467',\n",
       "       'MID11468', 'MID11469', 'MID11470', 'MID11472', 'MID11473',\n",
       "       'MID11474', 'MID11475', 'MID11476', 'MID11477', 'MID11478',\n",
       "       'MID11479', 'MID11480', 'MID11482', 'MID11484', 'MID11485',\n",
       "       'MID11486', 'MID11487', 'MID11488', 'MID11489', 'MID11490',\n",
       "       'MID11492', 'MID11494', 'MID11497', 'MID11499', 'MID11500',\n",
       "       'MID11501', 'MID11502', 'MID11503', 'MID11504', 'MID11507',\n",
       "       'MID11508', 'MID11509', 'MID11510', 'MID11511', 'MID11512',\n",
       "       'MID11513', 'MID11515', 'MID11516', 'MID11517', 'MID11518',\n",
       "       'MID11519', 'MID11520', 'MID11522', 'MID11524', 'MID11526',\n",
       "       'MID11527', 'MID11528', 'MID11529', 'MID11530', 'MID11531',\n",
       "       'MID11532', 'MID11535', 'MID11536', 'MID11537', 'MID11538',\n",
       "       'MID11539', 'MID11541', 'MID11542', 'MID11545', 'MID11546',\n",
       "       'MID11547', 'MID11548', 'MID11549', 'MID11550', 'MID11551',\n",
       "       'MID11552', 'MID11554', 'MID11555', 'MID11556', 'MID11558',\n",
       "       'MID11561', 'MID11562', 'MID11563', 'MID11565', 'MID11566',\n",
       "       'MID11567', 'MID11568', 'MID11569', 'MID11571', 'MID11572',\n",
       "       'MID11573', 'MID11574', 'MID11576', 'MID11577', 'MID11578',\n",
       "       'MID11580', 'MID11581', 'MID11582', 'MID11583', 'MID11584',\n",
       "       'MID11585', 'MID11587', 'MID11588', 'MID11589', 'MID11591',\n",
       "       'MID11592', 'MID11595', 'MID11596', 'MID11598', 'MID11599',\n",
       "       'MID11600', 'MID11601', 'MID11602', 'MID11603', 'MID11604',\n",
       "       'MID11606', 'MID11607', 'MID11608', 'MID11609', 'MID11610',\n",
       "       'MID11612', 'MID11613', 'MID11616', 'MID11618', 'MID11619',\n",
       "       'MID11620', 'MID11621', 'MID11622', 'MID11623', 'MID11624',\n",
       "       'MID11625', 'MID11626', 'MID11627', 'MID11629', 'MID11630',\n",
       "       'MID11631', 'MID11632', 'MID11633', 'MID11634', 'MID11635',\n",
       "       'MID11636', 'MID11637', 'MID11638', 'MID11639', 'MID11640',\n",
       "       'MID11641', 'MID11643', 'MID11644', 'MID11645', 'MID11646',\n",
       "       'MID11647', 'MID11648', 'MID11649', 'MID11650', 'MID11652',\n",
       "       'MID11653', 'MID11654', 'MID11656', 'MID11659', 'MID11660',\n",
       "       'MID11664', 'MID11665', 'MID11666', 'MID11668', 'MID11669',\n",
       "       'MID11670', 'MID11671', 'MID11674', 'MID11680', 'MID11681',\n",
       "       'MID11682', 'MID11683', 'MID11684', 'MID11685', 'MID11686',\n",
       "       'MID11687', 'MID11688', 'MID11689', 'MID11690', 'MID11691',\n",
       "       'MID11692', 'MID11693', 'MID11694', 'MID11695', 'MID11698',\n",
       "       'MID11699', 'MID11700', 'MID11702', 'MID11703', 'MID11705',\n",
       "       'MID11706', 'MID11707', 'MID11708', 'MID11709', 'MID11710',\n",
       "       'MID11712', 'MID11713', 'MID11714', 'MID11717', 'MID11718',\n",
       "       'MID11719', 'MID11720', 'MID11721', 'MID11722', 'MID11723',\n",
       "       'MID11724', 'MID11725', 'MID11726', 'MID11727', 'MID11729',\n",
       "       'MID11730', 'MID11731', 'MID11732', 'MID11733', 'MID11734',\n",
       "       'MID11735', 'MID11736', 'MID11737', 'MID11738', 'MID11739',\n",
       "       'MID11741', 'MID11743', 'MID11744', 'MID11745', 'MID11748',\n",
       "       'MID11750', 'MID11751', 'MID11752', 'MID11753', 'MID11754',\n",
       "       'MID11757', 'MID11758', 'MID11759', 'MID11761', 'MID11762',\n",
       "       'MID11763', 'MID11764', 'MID11766', 'MID11767', 'MID11768',\n",
       "       'MID11769', 'MID11770', 'MID11771', 'MID11773', 'MID11774',\n",
       "       'MID11776', 'MID11777', 'MID11778', 'MID11779', 'MID11780',\n",
       "       'MID11781', 'MID11782', 'MID11783', 'MID11785', 'MID11786',\n",
       "       'MID11787', 'MID11788', 'MID11789', 'MID11791', 'MID11792',\n",
       "       'MID11793', 'MID11794', 'MID11796', 'MID11798', 'MID11799',\n",
       "       'MID11800', 'MID11801', 'MID11802', 'MID11803', 'MID11804',\n",
       "       'MID11805', 'MID11807', 'MID11808', 'MID11809', 'MID11810',\n",
       "       'MID11811', 'MID11812', 'MID11813', 'MID11814', 'MID11816',\n",
       "       'MID11817', 'MID11819', 'MID11820', 'MID11821', 'MID11822',\n",
       "       'MID11824', 'MID11825', 'MID11826', 'MID11827', 'MID11829',\n",
       "       'MID11830', 'MID11831', 'MID11832', 'MID11833', 'MID11834',\n",
       "       'MID11835', 'MID11836', 'MID11837', 'MID11839', 'MID11840',\n",
       "       'MID11841', 'MID11842', 'MID11843', 'MID11844', 'MID11845',\n",
       "       'MID11846', 'MID11847', 'MID11848', 'MID11850', 'MID11006',\n",
       "       'MID11007', 'MID11039', 'MID11045', 'MID11049', 'MID11052',\n",
       "       'MID11069', 'MID11072', 'MID11074', 'MID11077', 'MID11080',\n",
       "       'MID11109', 'MID11110', 'MID11113', 'MID11117', 'MID11127',\n",
       "       'MID11128', 'MID11130', 'MID11133', 'MID11142', 'MID11149',\n",
       "       'MID11153', 'MID11156', 'MID11158', 'MID11161', 'MID11166',\n",
       "       'MID11172', 'MID11181', 'MID11186', 'MID11189', 'MID11190',\n",
       "       'MID11205', 'MID11209', 'MID11212', 'MID11215', 'MID11228',\n",
       "       'MID11233', 'MID11236', 'MID11240', 'MID11241', 'MID11250',\n",
       "       'MID11254', 'MID11257', 'MID11268', 'MID11269', 'MID11280',\n",
       "       'MID11282', 'MID11288', 'MID11290', 'MID11297', 'MID11298',\n",
       "       'MID11304', 'MID11305', 'MID11313', 'MID11316', 'MID11319',\n",
       "       'MID11324', 'MID11329', 'MID11331', 'MID11337', 'MID11339',\n",
       "       'MID11345', 'MID11350', 'MID11354', 'MID11357', 'MID11358',\n",
       "       'MID11361', 'MID11365', 'MID11368', 'MID11369', 'MID11370',\n",
       "       'MID11371', 'MID11376', 'MID11379', 'MID11388', 'MID11391',\n",
       "       'MID11393', 'MID11402', 'MID11408', 'MID11409', 'MID11412',\n",
       "       'MID11414', 'MID11418', 'MID11427', 'MID11432', 'MID11437',\n",
       "       'MID11439', 'MID11452', 'MID11456', 'MID11461', 'MID11463',\n",
       "       'MID11466', 'MID11471', 'MID11481', 'MID11483', 'MID11491',\n",
       "       'MID11493', 'MID11495', 'MID11496', 'MID11498', 'MID11505',\n",
       "       'MID11506', 'MID11514', 'MID11521', 'MID11523', 'MID11525',\n",
       "       'MID11533', 'MID11534', 'MID11540', 'MID11543', 'MID11544',\n",
       "       'MID11553', 'MID11557', 'MID11559', 'MID11560', 'MID11564',\n",
       "       'MID11570', 'MID11575', 'MID11579', 'MID11586', 'MID11590',\n",
       "       'MID11593', 'MID11594', 'MID11597', 'MID11605', 'MID11611',\n",
       "       'MID11614', 'MID11615', 'MID11617', 'MID11628', 'MID11642',\n",
       "       'MID11651', 'MID11655', 'MID11657', 'MID11658', 'MID11661',\n",
       "       'MID11662', 'MID11663', 'MID11667', 'MID11672', 'MID11673',\n",
       "       'MID11675', 'MID11676', 'MID11677', 'MID11678', 'MID11679',\n",
       "       'MID11696', 'MID11697', 'MID11701', 'MID11704', 'MID11711',\n",
       "       'MID11715', 'MID11716', 'MID11728', 'MID11740', 'MID11742',\n",
       "       'MID11746', 'MID11747', 'MID11749', 'MID11755', 'MID11756',\n",
       "       'MID11760', 'MID11765', 'MID11772', 'MID11775', 'MID11784',\n",
       "       'MID11790', 'MID11795', 'MID11797', 'MID11806', 'MID11815',\n",
       "       'MID11818', 'MID11823', 'MID11828', 'MID11838', 'MID11849',\n",
       "       'MID11851', 'MID11852', 'MID11853', 'MID11854', 'MID11855',\n",
       "       'MID11856', 'MID11857', 'MID11858', 'MID11859', 'MID11860',\n",
       "       'MID11861', 'MID11862', 'MID11863', 'MID11864', 'MID11865',\n",
       "       'MID11866', 'MID11867', 'MID11868', 'MID11869', 'MID11870',\n",
       "       'MID11871', 'MID11872', 'MID11873', 'MID11874', 'MID11875',\n",
       "       'MID11876', 'MID11877', 'MID11878', 'MID11879', 'MID11880',\n",
       "       'MID11881', 'MID11882', 'MID11883', 'MID11884', 'MID11885',\n",
       "       'MID11886', 'MID11887', 'MID11888', 'MID11889', 'MID11890',\n",
       "       'MID11891', 'MID11892', 'MID11893', 'MID11894', 'MID11895',\n",
       "       'MID11896', 'MID11897', 'MID11898', 'MID11899', 'MID11900',\n",
       "       'MID11901', 'MID11902', 'MID11903', 'MID11904', 'MID11905',\n",
       "       'MID11906', 'MID11907', 'MID11908', 'MID11909', 'MID11910',\n",
       "       'MID11911', 'MID11912', 'MID11913', 'MID11914', 'MID11915',\n",
       "       'MID11916', 'MID11917', 'MID11918', 'MID11919', 'MID11920',\n",
       "       'MID11921', 'MID11922', 'MID11923', 'MID11924', 'MID11925',\n",
       "       'MID11926', 'MID11927', 'MID11928', 'MID11929', 'MID11930',\n",
       "       'MID11931', 'MID11932', 'MID11933', 'MID11934', 'MID11935',\n",
       "       'MID11936', 'MID11937', 'MID11938', 'MID11939', 'MID11940',\n",
       "       'MID11941', 'MID11942', 'MID11943', 'MID11944', 'MID11945',\n",
       "       'MID11946', 'MID11947', 'MID11948', 'MID11949', 'MID11950',\n",
       "       'MID11951', 'MID11952', 'MID11953', 'MID11954', 'MID11955',\n",
       "       'MID11956', 'MID11957', 'MID11958', 'MID11959', 'MID11960',\n",
       "       'MID11961', 'MID11962', 'MID11963', 'MID11964', 'MID11965',\n",
       "       'MID11966', 'MID11967', 'MID11968', 'MID11969', 'MID11970',\n",
       "       'MID11971', 'MID11972', 'MID11973', 'MID11974', 'MID11975',\n",
       "       'MID11976', 'MID11977', 'MID11978', 'MID11979', 'MID11980',\n",
       "       'MID11981', 'MID11982', 'MID11983', 'MID11984', 'MID11985',\n",
       "       'MID11986', 'MID11987', 'MID11988', 'MID11989', 'MID11990',\n",
       "       'MID11991', 'MID11992', 'MID11993', 'MID11994', 'MID11995',\n",
       "       'MID11996', 'MID11997', 'MID11998', 'MID11999', 'MID12000'],\n",
       "      dtype=object)"
      ]
     },
     "execution_count": 43,
     "metadata": {},
     "output_type": "execute_result"
    }
   ],
   "source": [
    "%%time\n",
    "Sampledata_with_ALL['MachineID'].unique()"
   ]
  },
  {
   "cell_type": "markdown",
   "metadata": {},
   "source": [
    "##### Concatinating Sampledata_with_ALL with MachinesDetails"
   ]
  },
  {
   "cell_type": "code",
   "execution_count": 44,
   "metadata": {},
   "outputs": [
    {
     "name": "stdout",
     "output_type": "stream",
     "text": [
      "Wall time: 7.16 s\n"
     ]
    }
   ],
   "source": [
    "%%time\n",
    "Sampledata_with_ALL_1=pd.merge(Sampledata_with_ALL, MachinesDetails, how='left', on=['MachineID'])"
   ]
  },
  {
   "cell_type": "code",
   "execution_count": 45,
   "metadata": {},
   "outputs": [
    {
     "name": "stdout",
     "output_type": "stream",
     "text": [
      "Wall time: 3.99 ms\n"
     ]
    },
    {
     "data": {
      "text/html": [
       "<div>\n",
       "<style scoped>\n",
       "    .dataframe tbody tr th:only-of-type {\n",
       "        vertical-align: middle;\n",
       "    }\n",
       "\n",
       "    .dataframe tbody tr th {\n",
       "        vertical-align: top;\n",
       "    }\n",
       "\n",
       "    .dataframe thead th {\n",
       "        text-align: right;\n",
       "    }\n",
       "</style>\n",
       "<table border=\"1\" class=\"dataframe\">\n",
       "  <thead>\n",
       "    <tr style=\"text-align: right;\">\n",
       "      <th></th>\n",
       "      <th>MachineID</th>\n",
       "      <th>Sensor1</th>\n",
       "      <th>Sensor2</th>\n",
       "      <th>Sensor3</th>\n",
       "      <th>Sensor4</th>\n",
       "      <th>DateTime</th>\n",
       "      <th>ErrorID</th>\n",
       "      <th>ComponentReplacement</th>\n",
       "      <th>ComponentAttended</th>\n",
       "      <th>ServiceType</th>\n",
       "      <th>MachineModel</th>\n",
       "      <th>ServicePeriod</th>\n",
       "    </tr>\n",
       "  </thead>\n",
       "  <tbody>\n",
       "    <tr>\n",
       "      <th>0</th>\n",
       "      <td>MID11001</td>\n",
       "      <td>171.0095</td>\n",
       "      <td>524.7979</td>\n",
       "      <td>92.55335</td>\n",
       "      <td>43.64289</td>\n",
       "      <td>2017-01-01 06:00:00</td>\n",
       "      <td>NaN</td>\n",
       "      <td>NaN</td>\n",
       "      <td>NaN</td>\n",
       "      <td>NaN</td>\n",
       "      <td>model4</td>\n",
       "      <td>21</td>\n",
       "    </tr>\n",
       "    <tr>\n",
       "      <th>1</th>\n",
       "      <td>MID11001</td>\n",
       "      <td>167.8992</td>\n",
       "      <td>456.0629</td>\n",
       "      <td>90.13715</td>\n",
       "      <td>38.41209</td>\n",
       "      <td>2017-01-01 07:00:00</td>\n",
       "      <td>NaN</td>\n",
       "      <td>NaN</td>\n",
       "      <td>NaN</td>\n",
       "      <td>NaN</td>\n",
       "      <td>model4</td>\n",
       "      <td>21</td>\n",
       "    </tr>\n",
       "    <tr>\n",
       "      <th>2</th>\n",
       "      <td>MID11001</td>\n",
       "      <td>178.2850</td>\n",
       "      <td>550.4961</td>\n",
       "      <td>96.20799</td>\n",
       "      <td>44.89582</td>\n",
       "      <td>2017-01-01 08:00:00</td>\n",
       "      <td>NaN</td>\n",
       "      <td>NaN</td>\n",
       "      <td>NaN</td>\n",
       "      <td>NaN</td>\n",
       "      <td>model4</td>\n",
       "      <td>21</td>\n",
       "    </tr>\n",
       "    <tr>\n",
       "      <th>3</th>\n",
       "      <td>MID11001</td>\n",
       "      <td>161.4974</td>\n",
       "      <td>471.0561</td>\n",
       "      <td>109.25490</td>\n",
       "      <td>36.64527</td>\n",
       "      <td>2017-01-01 09:00:00</td>\n",
       "      <td>NaN</td>\n",
       "      <td>NaN</td>\n",
       "      <td>NaN</td>\n",
       "      <td>NaN</td>\n",
       "      <td>model4</td>\n",
       "      <td>21</td>\n",
       "    </tr>\n",
       "    <tr>\n",
       "      <th>4</th>\n",
       "      <td>MID11001</td>\n",
       "      <td>167.3764</td>\n",
       "      <td>448.8128</td>\n",
       "      <td>83.62342</td>\n",
       "      <td>45.32505</td>\n",
       "      <td>2017-01-01 10:00:00</td>\n",
       "      <td>NaN</td>\n",
       "      <td>NaN</td>\n",
       "      <td>NaN</td>\n",
       "      <td>NaN</td>\n",
       "      <td>model4</td>\n",
       "      <td>21</td>\n",
       "    </tr>\n",
       "  </tbody>\n",
       "</table>\n",
       "</div>"
      ],
      "text/plain": [
       "  MachineID   Sensor1   Sensor2    Sensor3   Sensor4            DateTime  \\\n",
       "0  MID11001  171.0095  524.7979   92.55335  43.64289 2017-01-01 06:00:00   \n",
       "1  MID11001  167.8992  456.0629   90.13715  38.41209 2017-01-01 07:00:00   \n",
       "2  MID11001  178.2850  550.4961   96.20799  44.89582 2017-01-01 08:00:00   \n",
       "3  MID11001  161.4974  471.0561  109.25490  36.64527 2017-01-01 09:00:00   \n",
       "4  MID11001  167.3764  448.8128   83.62342  45.32505 2017-01-01 10:00:00   \n",
       "\n",
       "  ErrorID ComponentReplacement ComponentAttended ServiceType MachineModel  \\\n",
       "0     NaN                  NaN               NaN         NaN       model4   \n",
       "1     NaN                  NaN               NaN         NaN       model4   \n",
       "2     NaN                  NaN               NaN         NaN       model4   \n",
       "3     NaN                  NaN               NaN         NaN       model4   \n",
       "4     NaN                  NaN               NaN         NaN       model4   \n",
       "\n",
       "   ServicePeriod  \n",
       "0             21  \n",
       "1             21  \n",
       "2             21  \n",
       "3             21  \n",
       "4             21  "
      ]
     },
     "execution_count": 45,
     "metadata": {},
     "output_type": "execute_result"
    }
   ],
   "source": [
    "%%time\n",
    "Sampledata_with_ALL_1.head()"
   ]
  },
  {
   "cell_type": "code",
   "execution_count": 46,
   "metadata": {},
   "outputs": [
    {
     "name": "stdout",
     "output_type": "stream",
     "text": [
      "Wall time: 2.73 s\n"
     ]
    }
   ],
   "source": [
    "%%time\n",
    "Final_SampleData=Sampledata_with_ALL_1.copy()"
   ]
  },
  {
   "cell_type": "code",
   "execution_count": 47,
   "metadata": {},
   "outputs": [
    {
     "name": "stdout",
     "output_type": "stream",
     "text": [
      "Wall time: 3min 58s\n"
     ]
    }
   ],
   "source": [
    "%%time\n",
    "Final_SampleData.to_csv('Final_SampleData_sai.csv',index=False)"
   ]
  },
  {
   "cell_type": "code",
   "execution_count": 48,
   "metadata": {},
   "outputs": [
    {
     "name": "stdout",
     "output_type": "stream",
     "text": [
      "Wall time: 999 µs\n"
     ]
    },
    {
     "data": {
      "text/html": [
       "<div>\n",
       "<style scoped>\n",
       "    .dataframe tbody tr th:only-of-type {\n",
       "        vertical-align: middle;\n",
       "    }\n",
       "\n",
       "    .dataframe tbody tr th {\n",
       "        vertical-align: top;\n",
       "    }\n",
       "\n",
       "    .dataframe thead th {\n",
       "        text-align: right;\n",
       "    }\n",
       "</style>\n",
       "<table border=\"1\" class=\"dataframe\">\n",
       "  <thead>\n",
       "    <tr style=\"text-align: right;\">\n",
       "      <th></th>\n",
       "      <th>MachineID</th>\n",
       "      <th>Sensor1</th>\n",
       "      <th>Sensor2</th>\n",
       "      <th>Sensor3</th>\n",
       "      <th>Sensor4</th>\n",
       "      <th>DateTime</th>\n",
       "      <th>ErrorID</th>\n",
       "      <th>ComponentReplacement</th>\n",
       "      <th>ComponentAttended</th>\n",
       "      <th>ServiceType</th>\n",
       "      <th>MachineModel</th>\n",
       "      <th>ServicePeriod</th>\n",
       "    </tr>\n",
       "  </thead>\n",
       "  <tbody>\n",
       "    <tr>\n",
       "      <th>0</th>\n",
       "      <td>MID11001</td>\n",
       "      <td>171.0095</td>\n",
       "      <td>524.7979</td>\n",
       "      <td>92.55335</td>\n",
       "      <td>43.64289</td>\n",
       "      <td>2017-01-01 06:00:00</td>\n",
       "      <td>NaN</td>\n",
       "      <td>NaN</td>\n",
       "      <td>NaN</td>\n",
       "      <td>NaN</td>\n",
       "      <td>model4</td>\n",
       "      <td>21</td>\n",
       "    </tr>\n",
       "    <tr>\n",
       "      <th>1</th>\n",
       "      <td>MID11001</td>\n",
       "      <td>167.8992</td>\n",
       "      <td>456.0629</td>\n",
       "      <td>90.13715</td>\n",
       "      <td>38.41209</td>\n",
       "      <td>2017-01-01 07:00:00</td>\n",
       "      <td>NaN</td>\n",
       "      <td>NaN</td>\n",
       "      <td>NaN</td>\n",
       "      <td>NaN</td>\n",
       "      <td>model4</td>\n",
       "      <td>21</td>\n",
       "    </tr>\n",
       "    <tr>\n",
       "      <th>2</th>\n",
       "      <td>MID11001</td>\n",
       "      <td>178.2850</td>\n",
       "      <td>550.4961</td>\n",
       "      <td>96.20799</td>\n",
       "      <td>44.89582</td>\n",
       "      <td>2017-01-01 08:00:00</td>\n",
       "      <td>NaN</td>\n",
       "      <td>NaN</td>\n",
       "      <td>NaN</td>\n",
       "      <td>NaN</td>\n",
       "      <td>model4</td>\n",
       "      <td>21</td>\n",
       "    </tr>\n",
       "    <tr>\n",
       "      <th>3</th>\n",
       "      <td>MID11001</td>\n",
       "      <td>161.4974</td>\n",
       "      <td>471.0561</td>\n",
       "      <td>109.25490</td>\n",
       "      <td>36.64527</td>\n",
       "      <td>2017-01-01 09:00:00</td>\n",
       "      <td>NaN</td>\n",
       "      <td>NaN</td>\n",
       "      <td>NaN</td>\n",
       "      <td>NaN</td>\n",
       "      <td>model4</td>\n",
       "      <td>21</td>\n",
       "    </tr>\n",
       "    <tr>\n",
       "      <th>4</th>\n",
       "      <td>MID11001</td>\n",
       "      <td>167.3764</td>\n",
       "      <td>448.8128</td>\n",
       "      <td>83.62342</td>\n",
       "      <td>45.32505</td>\n",
       "      <td>2017-01-01 10:00:00</td>\n",
       "      <td>NaN</td>\n",
       "      <td>NaN</td>\n",
       "      <td>NaN</td>\n",
       "      <td>NaN</td>\n",
       "      <td>model4</td>\n",
       "      <td>21</td>\n",
       "    </tr>\n",
       "  </tbody>\n",
       "</table>\n",
       "</div>"
      ],
      "text/plain": [
       "  MachineID   Sensor1   Sensor2    Sensor3   Sensor4            DateTime  \\\n",
       "0  MID11001  171.0095  524.7979   92.55335  43.64289 2017-01-01 06:00:00   \n",
       "1  MID11001  167.8992  456.0629   90.13715  38.41209 2017-01-01 07:00:00   \n",
       "2  MID11001  178.2850  550.4961   96.20799  44.89582 2017-01-01 08:00:00   \n",
       "3  MID11001  161.4974  471.0561  109.25490  36.64527 2017-01-01 09:00:00   \n",
       "4  MID11001  167.3764  448.8128   83.62342  45.32505 2017-01-01 10:00:00   \n",
       "\n",
       "  ErrorID ComponentReplacement ComponentAttended ServiceType MachineModel  \\\n",
       "0     NaN                  NaN               NaN         NaN       model4   \n",
       "1     NaN                  NaN               NaN         NaN       model4   \n",
       "2     NaN                  NaN               NaN         NaN       model4   \n",
       "3     NaN                  NaN               NaN         NaN       model4   \n",
       "4     NaN                  NaN               NaN         NaN       model4   \n",
       "\n",
       "   ServicePeriod  \n",
       "0             21  \n",
       "1             21  \n",
       "2             21  \n",
       "3             21  \n",
       "4             21  "
      ]
     },
     "execution_count": 48,
     "metadata": {},
     "output_type": "execute_result"
    }
   ],
   "source": [
    "%%time\n",
    "Final_SampleData.head()"
   ]
  },
  {
   "cell_type": "code",
   "execution_count": 49,
   "metadata": {},
   "outputs": [
    {
     "name": "stdout",
     "output_type": "stream",
     "text": [
      "Wall time: 0 ns\n"
     ]
    },
    {
     "data": {
      "text/plain": [
       "(8019716, 12)"
      ]
     },
     "execution_count": 49,
     "metadata": {},
     "output_type": "execute_result"
    }
   ],
   "source": [
    "%%time\n",
    "Final_SampleData.shape"
   ]
  },
  {
   "cell_type": "code",
   "execution_count": 50,
   "metadata": {},
   "outputs": [
    {
     "name": "stdout",
     "output_type": "stream",
     "text": [
      "Wall time: 0 ns\n"
     ]
    },
    {
     "data": {
      "text/plain": [
       "MachineID                       object\n",
       "Sensor1                        float64\n",
       "Sensor2                        float64\n",
       "Sensor3                        float64\n",
       "Sensor4                        float64\n",
       "DateTime                datetime64[ns]\n",
       "ErrorID                         object\n",
       "ComponentReplacement            object\n",
       "ComponentAttended               object\n",
       "ServiceType                     object\n",
       "MachineModel                    object\n",
       "ServicePeriod                    int64\n",
       "dtype: object"
      ]
     },
     "execution_count": 50,
     "metadata": {},
     "output_type": "execute_result"
    }
   ],
   "source": [
    "%%time\n",
    "Final_SampleData.dtypes"
   ]
  },
  {
   "cell_type": "code",
   "execution_count": 51,
   "metadata": {},
   "outputs": [
    {
     "name": "stdout",
     "output_type": "stream",
     "text": [
      "Wall time: 16.2 s\n"
     ]
    }
   ],
   "source": [
    "%%time\n",
    "New_Sampledata=pd.get_dummies(Final_SampleData, columns=[\"ErrorID\", \"ComponentReplacement\",\"ComponentAttended\",\"ServiceType\",\"MachineModel\"],drop_first=False)\n",
    "New_Sampledata.head()"
   ]
  },
  {
   "cell_type": "code",
   "execution_count": 52,
   "metadata": {},
   "outputs": [
    {
     "name": "stdout",
     "output_type": "stream",
     "text": [
      "Wall time: 0 ns\n"
     ]
    },
    {
     "data": {
      "text/plain": [
       "Index(['MachineID', 'Sensor1', 'Sensor2', 'Sensor3', 'Sensor4', 'DateTime',\n",
       "       'ServicePeriod', 'ErrorID_error1', 'ErrorID_error2', 'ErrorID_error3',\n",
       "       'ErrorID_error4', 'ErrorID_error5', 'ComponentReplacement_Component1',\n",
       "       'ComponentReplacement_Component2', 'ComponentReplacement_Component3',\n",
       "       'ComponentReplacement_Component4', 'ComponentAttended_Component1',\n",
       "       'ComponentAttended_Component2', 'ComponentAttended_Component3',\n",
       "       'ComponentAttended_Component4', 'ServiceType_ComponentRepair',\n",
       "       'ServiceType_ScheduledService', 'MachineModel_model1',\n",
       "       'MachineModel_model2', 'MachineModel_model3', 'MachineModel_model4'],\n",
       "      dtype='object')"
      ]
     },
     "execution_count": 52,
     "metadata": {},
     "output_type": "execute_result"
    }
   ],
   "source": [
    "%%time\n",
    "New_Sampledata.columns"
   ]
  },
  {
   "cell_type": "code",
   "execution_count": 53,
   "metadata": {},
   "outputs": [
    {
     "name": "stdout",
     "output_type": "stream",
     "text": [
      "Wall time: 42.4 s\n"
     ]
    },
    {
     "data": {
      "text/html": [
       "<div>\n",
       "<style scoped>\n",
       "    .dataframe tbody tr th:only-of-type {\n",
       "        vertical-align: middle;\n",
       "    }\n",
       "\n",
       "    .dataframe tbody tr th {\n",
       "        vertical-align: top;\n",
       "    }\n",
       "\n",
       "    .dataframe thead th {\n",
       "        text-align: right;\n",
       "    }\n",
       "</style>\n",
       "<table border=\"1\" class=\"dataframe\">\n",
       "  <thead>\n",
       "    <tr style=\"text-align: right;\">\n",
       "      <th></th>\n",
       "      <th>Sensor1</th>\n",
       "      <th>Sensor2</th>\n",
       "      <th>Sensor3</th>\n",
       "      <th>Sensor4</th>\n",
       "      <th>ServicePeriod</th>\n",
       "      <th>ErrorID_error1</th>\n",
       "      <th>ErrorID_error2</th>\n",
       "      <th>ErrorID_error3</th>\n",
       "      <th>ErrorID_error4</th>\n",
       "      <th>ErrorID_error5</th>\n",
       "      <th>...</th>\n",
       "      <th>ComponentAttended_Component1</th>\n",
       "      <th>ComponentAttended_Component2</th>\n",
       "      <th>ComponentAttended_Component3</th>\n",
       "      <th>ComponentAttended_Component4</th>\n",
       "      <th>ServiceType_ComponentRepair</th>\n",
       "      <th>ServiceType_ScheduledService</th>\n",
       "      <th>MachineModel_model1</th>\n",
       "      <th>MachineModel_model2</th>\n",
       "      <th>MachineModel_model3</th>\n",
       "      <th>MachineModel_model4</th>\n",
       "    </tr>\n",
       "  </thead>\n",
       "  <tbody>\n",
       "    <tr>\n",
       "      <th>count</th>\n",
       "      <td>8.019716e+06</td>\n",
       "      <td>8.019716e+06</td>\n",
       "      <td>8.019716e+06</td>\n",
       "      <td>8.019716e+06</td>\n",
       "      <td>8.019716e+06</td>\n",
       "      <td>8.019716e+06</td>\n",
       "      <td>8.019716e+06</td>\n",
       "      <td>8.019716e+06</td>\n",
       "      <td>8.019716e+06</td>\n",
       "      <td>8.019716e+06</td>\n",
       "      <td>...</td>\n",
       "      <td>8.019716e+06</td>\n",
       "      <td>8.019716e+06</td>\n",
       "      <td>8.019716e+06</td>\n",
       "      <td>8.019716e+06</td>\n",
       "      <td>8.019716e+06</td>\n",
       "      <td>8.019716e+06</td>\n",
       "      <td>8.019716e+06</td>\n",
       "      <td>8.019716e+06</td>\n",
       "      <td>8.019716e+06</td>\n",
       "      <td>8.019716e+06</td>\n",
       "    </tr>\n",
       "    <tr>\n",
       "      <th>mean</th>\n",
       "      <td>1.707634e+02</td>\n",
       "      <td>4.465724e+02</td>\n",
       "      <td>1.008441e+02</td>\n",
       "      <td>4.035093e+01</td>\n",
       "      <td>1.139038e+01</td>\n",
       "      <td>3.128540e-04</td>\n",
       "      <td>3.679681e-04</td>\n",
       "      <td>3.525062e-04</td>\n",
       "      <td>1.811785e-04</td>\n",
       "      <td>1.541202e-04</td>\n",
       "      <td>...</td>\n",
       "      <td>8.265879e-04</td>\n",
       "      <td>8.358151e-04</td>\n",
       "      <td>8.376855e-04</td>\n",
       "      <td>8.233459e-04</td>\n",
       "      <td>3.205350e-03</td>\n",
       "      <td>1.180840e-04</td>\n",
       "      <td>8.499890e-02</td>\n",
       "      <td>1.860298e-01</td>\n",
       "      <td>4.149879e-01</td>\n",
       "      <td>3.139834e-01</td>\n",
       "    </tr>\n",
       "    <tr>\n",
       "      <th>std</th>\n",
       "      <td>1.550277e+01</td>\n",
       "      <td>5.264270e+01</td>\n",
       "      <td>1.100483e+01</td>\n",
       "      <td>5.338839e+00</td>\n",
       "      <td>6.099908e+00</td>\n",
       "      <td>1.768491e-02</td>\n",
       "      <td>1.917897e-02</td>\n",
       "      <td>1.877184e-02</td>\n",
       "      <td>1.345904e-02</td>\n",
       "      <td>1.241356e-02</td>\n",
       "      <td>...</td>\n",
       "      <td>2.873856e-02</td>\n",
       "      <td>2.889838e-02</td>\n",
       "      <td>2.893067e-02</td>\n",
       "      <td>2.868219e-02</td>\n",
       "      <td>5.652501e-02</td>\n",
       "      <td>1.086600e-02</td>\n",
       "      <td>2.788801e-01</td>\n",
       "      <td>3.891307e-01</td>\n",
       "      <td>4.927200e-01</td>\n",
       "      <td>4.641098e-01</td>\n",
       "    </tr>\n",
       "    <tr>\n",
       "      <th>min</th>\n",
       "      <td>8.778085e+01</td>\n",
       "      <td>1.021730e+02</td>\n",
       "      <td>4.898661e+01</td>\n",
       "      <td>1.435719e+01</td>\n",
       "      <td>1.000000e+00</td>\n",
       "      <td>0.000000e+00</td>\n",
       "      <td>0.000000e+00</td>\n",
       "      <td>0.000000e+00</td>\n",
       "      <td>0.000000e+00</td>\n",
       "      <td>0.000000e+00</td>\n",
       "      <td>...</td>\n",
       "      <td>0.000000e+00</td>\n",
       "      <td>0.000000e+00</td>\n",
       "      <td>0.000000e+00</td>\n",
       "      <td>0.000000e+00</td>\n",
       "      <td>0.000000e+00</td>\n",
       "      <td>0.000000e+00</td>\n",
       "      <td>0.000000e+00</td>\n",
       "      <td>0.000000e+00</td>\n",
       "      <td>0.000000e+00</td>\n",
       "      <td>0.000000e+00</td>\n",
       "    </tr>\n",
       "    <tr>\n",
       "      <th>25%</th>\n",
       "      <td>1.602976e+02</td>\n",
       "      <td>4.123081e+02</td>\n",
       "      <td>9.352252e+01</td>\n",
       "      <td>3.676364e+01</td>\n",
       "      <td>6.000000e+00</td>\n",
       "      <td>0.000000e+00</td>\n",
       "      <td>0.000000e+00</td>\n",
       "      <td>0.000000e+00</td>\n",
       "      <td>0.000000e+00</td>\n",
       "      <td>0.000000e+00</td>\n",
       "      <td>...</td>\n",
       "      <td>0.000000e+00</td>\n",
       "      <td>0.000000e+00</td>\n",
       "      <td>0.000000e+00</td>\n",
       "      <td>0.000000e+00</td>\n",
       "      <td>0.000000e+00</td>\n",
       "      <td>0.000000e+00</td>\n",
       "      <td>0.000000e+00</td>\n",
       "      <td>0.000000e+00</td>\n",
       "      <td>0.000000e+00</td>\n",
       "      <td>0.000000e+00</td>\n",
       "    </tr>\n",
       "    <tr>\n",
       "      <th>50%</th>\n",
       "      <td>1.705854e+02</td>\n",
       "      <td>4.475751e+02</td>\n",
       "      <td>1.004224e+02</td>\n",
       "      <td>4.021185e+01</td>\n",
       "      <td>1.100000e+01</td>\n",
       "      <td>0.000000e+00</td>\n",
       "      <td>0.000000e+00</td>\n",
       "      <td>0.000000e+00</td>\n",
       "      <td>0.000000e+00</td>\n",
       "      <td>0.000000e+00</td>\n",
       "      <td>...</td>\n",
       "      <td>0.000000e+00</td>\n",
       "      <td>0.000000e+00</td>\n",
       "      <td>0.000000e+00</td>\n",
       "      <td>0.000000e+00</td>\n",
       "      <td>0.000000e+00</td>\n",
       "      <td>0.000000e+00</td>\n",
       "      <td>0.000000e+00</td>\n",
       "      <td>0.000000e+00</td>\n",
       "      <td>0.000000e+00</td>\n",
       "      <td>0.000000e+00</td>\n",
       "    </tr>\n",
       "    <tr>\n",
       "      <th>75%</th>\n",
       "      <td>1.810086e+02</td>\n",
       "      <td>4.821050e+02</td>\n",
       "      <td>1.075365e+02</td>\n",
       "      <td>4.374604e+01</td>\n",
       "      <td>1.700000e+01</td>\n",
       "      <td>0.000000e+00</td>\n",
       "      <td>0.000000e+00</td>\n",
       "      <td>0.000000e+00</td>\n",
       "      <td>0.000000e+00</td>\n",
       "      <td>0.000000e+00</td>\n",
       "      <td>...</td>\n",
       "      <td>0.000000e+00</td>\n",
       "      <td>0.000000e+00</td>\n",
       "      <td>0.000000e+00</td>\n",
       "      <td>0.000000e+00</td>\n",
       "      <td>0.000000e+00</td>\n",
       "      <td>0.000000e+00</td>\n",
       "      <td>0.000000e+00</td>\n",
       "      <td>0.000000e+00</td>\n",
       "      <td>1.000000e+00</td>\n",
       "      <td>1.000000e+00</td>\n",
       "    </tr>\n",
       "    <tr>\n",
       "      <th>max</th>\n",
       "      <td>2.726818e+02</td>\n",
       "      <td>7.001998e+02</td>\n",
       "      <td>1.952711e+02</td>\n",
       "      <td>7.910749e+01</td>\n",
       "      <td>2.200000e+01</td>\n",
       "      <td>1.000000e+00</td>\n",
       "      <td>1.000000e+00</td>\n",
       "      <td>1.000000e+00</td>\n",
       "      <td>1.000000e+00</td>\n",
       "      <td>1.000000e+00</td>\n",
       "      <td>...</td>\n",
       "      <td>1.000000e+00</td>\n",
       "      <td>1.000000e+00</td>\n",
       "      <td>1.000000e+00</td>\n",
       "      <td>1.000000e+00</td>\n",
       "      <td>1.000000e+00</td>\n",
       "      <td>1.000000e+00</td>\n",
       "      <td>1.000000e+00</td>\n",
       "      <td>1.000000e+00</td>\n",
       "      <td>1.000000e+00</td>\n",
       "      <td>1.000000e+00</td>\n",
       "    </tr>\n",
       "  </tbody>\n",
       "</table>\n",
       "<p>8 rows × 24 columns</p>\n",
       "</div>"
      ],
      "text/plain": [
       "            Sensor1       Sensor2       Sensor3       Sensor4  ServicePeriod  \\\n",
       "count  8.019716e+06  8.019716e+06  8.019716e+06  8.019716e+06   8.019716e+06   \n",
       "mean   1.707634e+02  4.465724e+02  1.008441e+02  4.035093e+01   1.139038e+01   \n",
       "std    1.550277e+01  5.264270e+01  1.100483e+01  5.338839e+00   6.099908e+00   \n",
       "min    8.778085e+01  1.021730e+02  4.898661e+01  1.435719e+01   1.000000e+00   \n",
       "25%    1.602976e+02  4.123081e+02  9.352252e+01  3.676364e+01   6.000000e+00   \n",
       "50%    1.705854e+02  4.475751e+02  1.004224e+02  4.021185e+01   1.100000e+01   \n",
       "75%    1.810086e+02  4.821050e+02  1.075365e+02  4.374604e+01   1.700000e+01   \n",
       "max    2.726818e+02  7.001998e+02  1.952711e+02  7.910749e+01   2.200000e+01   \n",
       "\n",
       "       ErrorID_error1  ErrorID_error2  ErrorID_error3  ErrorID_error4  \\\n",
       "count    8.019716e+06    8.019716e+06    8.019716e+06    8.019716e+06   \n",
       "mean     3.128540e-04    3.679681e-04    3.525062e-04    1.811785e-04   \n",
       "std      1.768491e-02    1.917897e-02    1.877184e-02    1.345904e-02   \n",
       "min      0.000000e+00    0.000000e+00    0.000000e+00    0.000000e+00   \n",
       "25%      0.000000e+00    0.000000e+00    0.000000e+00    0.000000e+00   \n",
       "50%      0.000000e+00    0.000000e+00    0.000000e+00    0.000000e+00   \n",
       "75%      0.000000e+00    0.000000e+00    0.000000e+00    0.000000e+00   \n",
       "max      1.000000e+00    1.000000e+00    1.000000e+00    1.000000e+00   \n",
       "\n",
       "       ErrorID_error5         ...           ComponentAttended_Component1  \\\n",
       "count    8.019716e+06         ...                           8.019716e+06   \n",
       "mean     1.541202e-04         ...                           8.265879e-04   \n",
       "std      1.241356e-02         ...                           2.873856e-02   \n",
       "min      0.000000e+00         ...                           0.000000e+00   \n",
       "25%      0.000000e+00         ...                           0.000000e+00   \n",
       "50%      0.000000e+00         ...                           0.000000e+00   \n",
       "75%      0.000000e+00         ...                           0.000000e+00   \n",
       "max      1.000000e+00         ...                           1.000000e+00   \n",
       "\n",
       "       ComponentAttended_Component2  ComponentAttended_Component3  \\\n",
       "count                  8.019716e+06                  8.019716e+06   \n",
       "mean                   8.358151e-04                  8.376855e-04   \n",
       "std                    2.889838e-02                  2.893067e-02   \n",
       "min                    0.000000e+00                  0.000000e+00   \n",
       "25%                    0.000000e+00                  0.000000e+00   \n",
       "50%                    0.000000e+00                  0.000000e+00   \n",
       "75%                    0.000000e+00                  0.000000e+00   \n",
       "max                    1.000000e+00                  1.000000e+00   \n",
       "\n",
       "       ComponentAttended_Component4  ServiceType_ComponentRepair  \\\n",
       "count                  8.019716e+06                 8.019716e+06   \n",
       "mean                   8.233459e-04                 3.205350e-03   \n",
       "std                    2.868219e-02                 5.652501e-02   \n",
       "min                    0.000000e+00                 0.000000e+00   \n",
       "25%                    0.000000e+00                 0.000000e+00   \n",
       "50%                    0.000000e+00                 0.000000e+00   \n",
       "75%                    0.000000e+00                 0.000000e+00   \n",
       "max                    1.000000e+00                 1.000000e+00   \n",
       "\n",
       "       ServiceType_ScheduledService  MachineModel_model1  MachineModel_model2  \\\n",
       "count                  8.019716e+06         8.019716e+06         8.019716e+06   \n",
       "mean                   1.180840e-04         8.499890e-02         1.860298e-01   \n",
       "std                    1.086600e-02         2.788801e-01         3.891307e-01   \n",
       "min                    0.000000e+00         0.000000e+00         0.000000e+00   \n",
       "25%                    0.000000e+00         0.000000e+00         0.000000e+00   \n",
       "50%                    0.000000e+00         0.000000e+00         0.000000e+00   \n",
       "75%                    0.000000e+00         0.000000e+00         0.000000e+00   \n",
       "max                    1.000000e+00         1.000000e+00         1.000000e+00   \n",
       "\n",
       "       MachineModel_model3  MachineModel_model4  \n",
       "count         8.019716e+06         8.019716e+06  \n",
       "mean          4.149879e-01         3.139834e-01  \n",
       "std           4.927200e-01         4.641098e-01  \n",
       "min           0.000000e+00         0.000000e+00  \n",
       "25%           0.000000e+00         0.000000e+00  \n",
       "50%           0.000000e+00         0.000000e+00  \n",
       "75%           1.000000e+00         1.000000e+00  \n",
       "max           1.000000e+00         1.000000e+00  \n",
       "\n",
       "[8 rows x 24 columns]"
      ]
     },
     "execution_count": 53,
     "metadata": {},
     "output_type": "execute_result"
    }
   ],
   "source": [
    "%%time\n",
    "New_Sampledata.describe()"
   ]
  },
  {
   "cell_type": "code",
   "execution_count": 54,
   "metadata": {},
   "outputs": [
    {
     "name": "stdout",
     "output_type": "stream",
     "text": [
      "Wall time: 4.99 ms\n"
     ]
    },
    {
     "data": {
      "text/plain": [
       "Sensor3                            1\n",
       "ServicePeriod                      1\n",
       "ErrorID_error5                     1\n",
       "MachineModel_model2                1\n",
       "ErrorID_error4                     1\n",
       "ComponentReplacement_Component3    1\n",
       "Sensor4                            1\n",
       "MachineModel_model4                1\n",
       "ComponentAttended_Component4       1\n",
       "Sensor1                            1\n",
       "ComponentReplacement_Component2    1\n",
       "ComponentAttended_Component2       1\n",
       "MachineModel_model1                1\n",
       "ComponentAttended_Component1       1\n",
       "ServiceType_ScheduledService       1\n",
       "ErrorID_error3                     1\n",
       "ErrorID_error2                     1\n",
       "DateTime                           1\n",
       "MachineModel_model3                1\n",
       "ComponentReplacement_Component1    1\n",
       "ComponentReplacement_Component4    1\n",
       "ErrorID_error1                     1\n",
       "ServiceType_ComponentRepair        1\n",
       "ComponentAttended_Component3       1\n",
       "Sensor2                            1\n",
       "MachineID                          1\n",
       "dtype: int64"
      ]
     },
     "execution_count": 54,
     "metadata": {},
     "output_type": "execute_result"
    }
   ],
   "source": [
    "%%time\n",
    "New_Sampledata.columns.value_counts()"
   ]
  },
  {
   "cell_type": "markdown",
   "metadata": {},
   "source": [
    "##### creating sum aggregate variables"
   ]
  },
  {
   "cell_type": "code",
   "execution_count": 55,
   "metadata": {},
   "outputs": [
    {
     "name": "stdout",
     "output_type": "stream",
     "text": [
      "Wall time: 18.6 s\n"
     ]
    }
   ],
   "source": [
    "%%time\n",
    "Final_Sampledata_with_count_variables=New_Sampledata[['MachineID',\n",
    "       'ServicePeriod', 'ErrorID_error1', 'ErrorID_error2',\n",
    "       'ErrorID_error3', 'ErrorID_error4', 'ErrorID_error5',\n",
    "       'ComponentReplacement_Component2', 'ComponentReplacement_Component3',\n",
    "       'ComponentReplacement_Component4', 'ComponentReplacement_Component1',\n",
    "       'ComponentAttended_Component2', 'ComponentAttended_Component3',\n",
    "       'ComponentAttended_Component4', 'ComponentAttended_Component1',\n",
    "       'ServiceType_ComponentRepair', 'ServiceType_ScheduledService',\n",
    "       'MachineModel_model2', 'MachineModel_model3', 'MachineModel_model4','MachineModel_model1']]\n",
    "Final_Sampledata_aggregated=Final_Sampledata_with_count_variables.groupby(['MachineID']).sum()"
   ]
  },
  {
   "cell_type": "code",
   "execution_count": 56,
   "metadata": {},
   "outputs": [
    {
     "name": "stdout",
     "output_type": "stream",
     "text": [
      "Wall time: 26.9 ms\n"
     ]
    }
   ],
   "source": [
    "%%time\n",
    "Final_Sampledata_aggregated['MachineID']=Final_Sampledata_aggregated.index"
   ]
  },
  {
   "cell_type": "code",
   "execution_count": 57,
   "metadata": {},
   "outputs": [
    {
     "name": "stdout",
     "output_type": "stream",
     "text": [
      "Wall time: 2.99 ms\n"
     ]
    },
    {
     "data": {
      "text/html": [
       "<div>\n",
       "<style scoped>\n",
       "    .dataframe tbody tr th:only-of-type {\n",
       "        vertical-align: middle;\n",
       "    }\n",
       "\n",
       "    .dataframe tbody tr th {\n",
       "        vertical-align: top;\n",
       "    }\n",
       "\n",
       "    .dataframe thead th {\n",
       "        text-align: right;\n",
       "    }\n",
       "</style>\n",
       "<table border=\"1\" class=\"dataframe\">\n",
       "  <thead>\n",
       "    <tr style=\"text-align: right;\">\n",
       "      <th></th>\n",
       "      <th>ServicePeriod</th>\n",
       "      <th>ErrorID_error1</th>\n",
       "      <th>ErrorID_error2</th>\n",
       "      <th>ErrorID_error3</th>\n",
       "      <th>ErrorID_error4</th>\n",
       "      <th>ErrorID_error5</th>\n",
       "      <th>ComponentReplacement_Component2</th>\n",
       "      <th>ComponentReplacement_Component3</th>\n",
       "      <th>ComponentReplacement_Component4</th>\n",
       "      <th>ComponentReplacement_Component1</th>\n",
       "      <th>...</th>\n",
       "      <th>ComponentAttended_Component3</th>\n",
       "      <th>ComponentAttended_Component4</th>\n",
       "      <th>ComponentAttended_Component1</th>\n",
       "      <th>ServiceType_ComponentRepair</th>\n",
       "      <th>ServiceType_ScheduledService</th>\n",
       "      <th>MachineModel_model2</th>\n",
       "      <th>MachineModel_model3</th>\n",
       "      <th>MachineModel_model4</th>\n",
       "      <th>MachineModel_model1</th>\n",
       "      <th>MachineID</th>\n",
       "    </tr>\n",
       "    <tr>\n",
       "      <th>MachineID</th>\n",
       "      <th></th>\n",
       "      <th></th>\n",
       "      <th></th>\n",
       "      <th></th>\n",
       "      <th></th>\n",
       "      <th></th>\n",
       "      <th></th>\n",
       "      <th></th>\n",
       "      <th></th>\n",
       "      <th></th>\n",
       "      <th></th>\n",
       "      <th></th>\n",
       "      <th></th>\n",
       "      <th></th>\n",
       "      <th></th>\n",
       "      <th></th>\n",
       "      <th></th>\n",
       "      <th></th>\n",
       "      <th></th>\n",
       "      <th></th>\n",
       "      <th></th>\n",
       "    </tr>\n",
       "  </thead>\n",
       "  <tbody>\n",
       "    <tr>\n",
       "      <th>MID11001</th>\n",
       "      <td>168609</td>\n",
       "      <td>3.0</td>\n",
       "      <td>8.0</td>\n",
       "      <td>7.0</td>\n",
       "      <td>0.0</td>\n",
       "      <td>3.0</td>\n",
       "      <td>8.0</td>\n",
       "      <td>0.0</td>\n",
       "      <td>4.0</td>\n",
       "      <td>5.0</td>\n",
       "      <td>...</td>\n",
       "      <td>5.0</td>\n",
       "      <td>6.0</td>\n",
       "      <td>8.0</td>\n",
       "      <td>26.0</td>\n",
       "      <td>4.0</td>\n",
       "      <td>0.0</td>\n",
       "      <td>0.0</td>\n",
       "      <td>8029.0</td>\n",
       "      <td>0.0</td>\n",
       "      <td>MID11001</td>\n",
       "    </tr>\n",
       "    <tr>\n",
       "      <th>MID11002</th>\n",
       "      <td>168462</td>\n",
       "      <td>0.0</td>\n",
       "      <td>2.0</td>\n",
       "      <td>2.0</td>\n",
       "      <td>3.0</td>\n",
       "      <td>3.0</td>\n",
       "      <td>3.0</td>\n",
       "      <td>4.0</td>\n",
       "      <td>3.0</td>\n",
       "      <td>0.0</td>\n",
       "      <td>...</td>\n",
       "      <td>11.0</td>\n",
       "      <td>6.0</td>\n",
       "      <td>5.0</td>\n",
       "      <td>27.0</td>\n",
       "      <td>1.0</td>\n",
       "      <td>0.0</td>\n",
       "      <td>0.0</td>\n",
       "      <td>0.0</td>\n",
       "      <td>8022.0</td>\n",
       "      <td>MID11002</td>\n",
       "    </tr>\n",
       "    <tr>\n",
       "      <th>MID11003</th>\n",
       "      <td>176396</td>\n",
       "      <td>2.0</td>\n",
       "      <td>3.0</td>\n",
       "      <td>3.0</td>\n",
       "      <td>0.0</td>\n",
       "      <td>3.0</td>\n",
       "      <td>3.0</td>\n",
       "      <td>0.0</td>\n",
       "      <td>4.0</td>\n",
       "      <td>2.0</td>\n",
       "      <td>...</td>\n",
       "      <td>6.0</td>\n",
       "      <td>8.0</td>\n",
       "      <td>5.0</td>\n",
       "      <td>25.0</td>\n",
       "      <td>2.0</td>\n",
       "      <td>0.0</td>\n",
       "      <td>8018.0</td>\n",
       "      <td>0.0</td>\n",
       "      <td>0.0</td>\n",
       "      <td>MID11003</td>\n",
       "    </tr>\n",
       "    <tr>\n",
       "      <th>MID11004</th>\n",
       "      <td>176396</td>\n",
       "      <td>4.0</td>\n",
       "      <td>4.0</td>\n",
       "      <td>4.0</td>\n",
       "      <td>1.0</td>\n",
       "      <td>4.0</td>\n",
       "      <td>3.0</td>\n",
       "      <td>0.0</td>\n",
       "      <td>5.0</td>\n",
       "      <td>1.0</td>\n",
       "      <td>...</td>\n",
       "      <td>7.0</td>\n",
       "      <td>7.0</td>\n",
       "      <td>5.0</td>\n",
       "      <td>23.0</td>\n",
       "      <td>3.0</td>\n",
       "      <td>0.0</td>\n",
       "      <td>0.0</td>\n",
       "      <td>8018.0</td>\n",
       "      <td>0.0</td>\n",
       "      <td>MID11004</td>\n",
       "    </tr>\n",
       "    <tr>\n",
       "      <th>MID11005</th>\n",
       "      <td>176396</td>\n",
       "      <td>3.0</td>\n",
       "      <td>3.0</td>\n",
       "      <td>5.0</td>\n",
       "      <td>1.0</td>\n",
       "      <td>4.0</td>\n",
       "      <td>2.0</td>\n",
       "      <td>0.0</td>\n",
       "      <td>5.0</td>\n",
       "      <td>2.0</td>\n",
       "      <td>...</td>\n",
       "      <td>5.0</td>\n",
       "      <td>10.0</td>\n",
       "      <td>6.0</td>\n",
       "      <td>25.0</td>\n",
       "      <td>0.0</td>\n",
       "      <td>0.0</td>\n",
       "      <td>8018.0</td>\n",
       "      <td>0.0</td>\n",
       "      <td>0.0</td>\n",
       "      <td>MID11005</td>\n",
       "    </tr>\n",
       "  </tbody>\n",
       "</table>\n",
       "<p>5 rows × 21 columns</p>\n",
       "</div>"
      ],
      "text/plain": [
       "           ServicePeriod  ErrorID_error1  ErrorID_error2  ErrorID_error3  \\\n",
       "MachineID                                                                  \n",
       "MID11001          168609             3.0             8.0             7.0   \n",
       "MID11002          168462             0.0             2.0             2.0   \n",
       "MID11003          176396             2.0             3.0             3.0   \n",
       "MID11004          176396             4.0             4.0             4.0   \n",
       "MID11005          176396             3.0             3.0             5.0   \n",
       "\n",
       "           ErrorID_error4  ErrorID_error5  ComponentReplacement_Component2  \\\n",
       "MachineID                                                                    \n",
       "MID11001              0.0             3.0                              8.0   \n",
       "MID11002              3.0             3.0                              3.0   \n",
       "MID11003              0.0             3.0                              3.0   \n",
       "MID11004              1.0             4.0                              3.0   \n",
       "MID11005              1.0             4.0                              2.0   \n",
       "\n",
       "           ComponentReplacement_Component3  ComponentReplacement_Component4  \\\n",
       "MachineID                                                                     \n",
       "MID11001                               0.0                              4.0   \n",
       "MID11002                               4.0                              3.0   \n",
       "MID11003                               0.0                              4.0   \n",
       "MID11004                               0.0                              5.0   \n",
       "MID11005                               0.0                              5.0   \n",
       "\n",
       "           ComponentReplacement_Component1    ...      \\\n",
       "MachineID                                     ...       \n",
       "MID11001                               5.0    ...       \n",
       "MID11002                               0.0    ...       \n",
       "MID11003                               2.0    ...       \n",
       "MID11004                               1.0    ...       \n",
       "MID11005                               2.0    ...       \n",
       "\n",
       "           ComponentAttended_Component3  ComponentAttended_Component4  \\\n",
       "MachineID                                                               \n",
       "MID11001                            5.0                           6.0   \n",
       "MID11002                           11.0                           6.0   \n",
       "MID11003                            6.0                           8.0   \n",
       "MID11004                            7.0                           7.0   \n",
       "MID11005                            5.0                          10.0   \n",
       "\n",
       "           ComponentAttended_Component1  ServiceType_ComponentRepair  \\\n",
       "MachineID                                                              \n",
       "MID11001                            8.0                         26.0   \n",
       "MID11002                            5.0                         27.0   \n",
       "MID11003                            5.0                         25.0   \n",
       "MID11004                            5.0                         23.0   \n",
       "MID11005                            6.0                         25.0   \n",
       "\n",
       "           ServiceType_ScheduledService  MachineModel_model2  \\\n",
       "MachineID                                                      \n",
       "MID11001                            4.0                  0.0   \n",
       "MID11002                            1.0                  0.0   \n",
       "MID11003                            2.0                  0.0   \n",
       "MID11004                            3.0                  0.0   \n",
       "MID11005                            0.0                  0.0   \n",
       "\n",
       "           MachineModel_model3  MachineModel_model4  MachineModel_model1  \\\n",
       "MachineID                                                                  \n",
       "MID11001                   0.0               8029.0                  0.0   \n",
       "MID11002                   0.0                  0.0               8022.0   \n",
       "MID11003                8018.0                  0.0                  0.0   \n",
       "MID11004                   0.0               8018.0                  0.0   \n",
       "MID11005                8018.0                  0.0                  0.0   \n",
       "\n",
       "           MachineID  \n",
       "MachineID             \n",
       "MID11001    MID11001  \n",
       "MID11002    MID11002  \n",
       "MID11003    MID11003  \n",
       "MID11004    MID11004  \n",
       "MID11005    MID11005  \n",
       "\n",
       "[5 rows x 21 columns]"
      ]
     },
     "execution_count": 57,
     "metadata": {},
     "output_type": "execute_result"
    }
   ],
   "source": [
    "%%time\n",
    "Final_Sampledata_aggregated.head()"
   ]
  },
  {
   "cell_type": "markdown",
   "metadata": {},
   "source": [
    "##### creating average aggregate variables"
   ]
  },
  {
   "cell_type": "code",
   "execution_count": 58,
   "metadata": {},
   "outputs": [
    {
     "name": "stdout",
     "output_type": "stream",
     "text": [
      "Wall time: 2.96 s\n"
     ]
    }
   ],
   "source": [
    "%%time\n",
    "Final_Sampledata_with_average_variables = New_Sampledata[['MachineID','Sensor1','Sensor2','Sensor3','Sensor4']]\n",
    "Final_Sampledata_aggregated_mean = Final_Sampledata_with_average_variables.groupby(['MachineID']).mean()"
   ]
  },
  {
   "cell_type": "code",
   "execution_count": 59,
   "metadata": {},
   "outputs": [
    {
     "name": "stdout",
     "output_type": "stream",
     "text": [
      "Wall time: 2 ms\n"
     ]
    }
   ],
   "source": [
    "%%time\n",
    "Final_Sampledata_aggregated_mean['MachineID']=Final_Sampledata_aggregated_mean.index"
   ]
  },
  {
   "cell_type": "code",
   "execution_count": 60,
   "metadata": {},
   "outputs": [
    {
     "name": "stdout",
     "output_type": "stream",
     "text": [
      "Wall time: 0 ns\n"
     ]
    },
    {
     "data": {
      "text/html": [
       "<div>\n",
       "<style scoped>\n",
       "    .dataframe tbody tr th:only-of-type {\n",
       "        vertical-align: middle;\n",
       "    }\n",
       "\n",
       "    .dataframe tbody tr th {\n",
       "        vertical-align: top;\n",
       "    }\n",
       "\n",
       "    .dataframe thead th {\n",
       "        text-align: right;\n",
       "    }\n",
       "</style>\n",
       "<table border=\"1\" class=\"dataframe\">\n",
       "  <thead>\n",
       "    <tr style=\"text-align: right;\">\n",
       "      <th></th>\n",
       "      <th>Sensor1</th>\n",
       "      <th>Sensor2</th>\n",
       "      <th>Sensor3</th>\n",
       "      <th>Sensor4</th>\n",
       "      <th>MachineID</th>\n",
       "    </tr>\n",
       "    <tr>\n",
       "      <th>MachineID</th>\n",
       "      <th></th>\n",
       "      <th></th>\n",
       "      <th></th>\n",
       "      <th></th>\n",
       "      <th></th>\n",
       "    </tr>\n",
       "  </thead>\n",
       "  <tbody>\n",
       "    <tr>\n",
       "      <th>MID11001</th>\n",
       "      <td>171.275328</td>\n",
       "      <td>444.691463</td>\n",
       "      <td>100.890455</td>\n",
       "      <td>40.345920</td>\n",
       "      <td>MID11001</td>\n",
       "    </tr>\n",
       "    <tr>\n",
       "      <th>MID11002</th>\n",
       "      <td>170.400133</td>\n",
       "      <td>445.734986</td>\n",
       "      <td>101.051305</td>\n",
       "      <td>40.490451</td>\n",
       "      <td>MID11002</td>\n",
       "    </tr>\n",
       "    <tr>\n",
       "      <th>MID11003</th>\n",
       "      <td>170.777636</td>\n",
       "      <td>446.128524</td>\n",
       "      <td>100.597922</td>\n",
       "      <td>40.544045</td>\n",
       "      <td>MID11003</td>\n",
       "    </tr>\n",
       "    <tr>\n",
       "      <th>MID11004</th>\n",
       "      <td>170.727139</td>\n",
       "      <td>445.804482</td>\n",
       "      <td>100.778284</td>\n",
       "      <td>40.586980</td>\n",
       "      <td>MID11004</td>\n",
       "    </tr>\n",
       "    <tr>\n",
       "      <th>MID11005</th>\n",
       "      <td>170.816812</td>\n",
       "      <td>446.050125</td>\n",
       "      <td>100.760865</td>\n",
       "      <td>40.568768</td>\n",
       "      <td>MID11005</td>\n",
       "    </tr>\n",
       "  </tbody>\n",
       "</table>\n",
       "</div>"
      ],
      "text/plain": [
       "              Sensor1     Sensor2     Sensor3    Sensor4 MachineID\n",
       "MachineID                                                         \n",
       "MID11001   171.275328  444.691463  100.890455  40.345920  MID11001\n",
       "MID11002   170.400133  445.734986  101.051305  40.490451  MID11002\n",
       "MID11003   170.777636  446.128524  100.597922  40.544045  MID11003\n",
       "MID11004   170.727139  445.804482  100.778284  40.586980  MID11004\n",
       "MID11005   170.816812  446.050125  100.760865  40.568768  MID11005"
      ]
     },
     "execution_count": 60,
     "metadata": {},
     "output_type": "execute_result"
    }
   ],
   "source": [
    "%%time\n",
    "Final_Sampledata_aggregated_mean.head()"
   ]
  },
  {
   "cell_type": "markdown",
   "metadata": {},
   "source": [
    "##### Concatinating the Final_Sampledata_aggregated_mean with Train dataset"
   ]
  },
  {
   "cell_type": "code",
   "execution_count": 61,
   "metadata": {},
   "outputs": [
    {
     "data": {
      "text/html": [
       "<div>\n",
       "<style scoped>\n",
       "    .dataframe tbody tr th:only-of-type {\n",
       "        vertical-align: middle;\n",
       "    }\n",
       "\n",
       "    .dataframe tbody tr th {\n",
       "        vertical-align: top;\n",
       "    }\n",
       "\n",
       "    .dataframe thead th {\n",
       "        text-align: right;\n",
       "    }\n",
       "</style>\n",
       "<table border=\"1\" class=\"dataframe\">\n",
       "  <thead>\n",
       "    <tr style=\"text-align: right;\">\n",
       "      <th></th>\n",
       "      <th>MachineID</th>\n",
       "      <th>ActionPoint</th>\n",
       "      <th>Sensor1</th>\n",
       "      <th>Sensor2</th>\n",
       "      <th>Sensor3</th>\n",
       "      <th>Sensor4</th>\n",
       "      <th>ServicePeriod</th>\n",
       "      <th>ErrorID_error1</th>\n",
       "      <th>ErrorID_error2</th>\n",
       "      <th>ErrorID_error3</th>\n",
       "      <th>...</th>\n",
       "      <th>ComponentAttended_Component2</th>\n",
       "      <th>ComponentAttended_Component3</th>\n",
       "      <th>ComponentAttended_Component4</th>\n",
       "      <th>ComponentAttended_Component1</th>\n",
       "      <th>ServiceType_ComponentRepair</th>\n",
       "      <th>ServiceType_ScheduledService</th>\n",
       "      <th>MachineModel_model2</th>\n",
       "      <th>MachineModel_model3</th>\n",
       "      <th>MachineModel_model4</th>\n",
       "      <th>MachineModel_model1</th>\n",
       "    </tr>\n",
       "  </thead>\n",
       "  <tbody>\n",
       "    <tr>\n",
       "      <th>0</th>\n",
       "      <td>MID11001</td>\n",
       "      <td>ComponentRepair</td>\n",
       "      <td>171.275328</td>\n",
       "      <td>444.691463</td>\n",
       "      <td>100.890455</td>\n",
       "      <td>40.345920</td>\n",
       "      <td>168609</td>\n",
       "      <td>3.0</td>\n",
       "      <td>8.0</td>\n",
       "      <td>7.0</td>\n",
       "      <td>...</td>\n",
       "      <td>11.0</td>\n",
       "      <td>5.0</td>\n",
       "      <td>6.0</td>\n",
       "      <td>8.0</td>\n",
       "      <td>26.0</td>\n",
       "      <td>4.0</td>\n",
       "      <td>0.0</td>\n",
       "      <td>0.0</td>\n",
       "      <td>8029.0</td>\n",
       "      <td>0.0</td>\n",
       "    </tr>\n",
       "    <tr>\n",
       "      <th>1</th>\n",
       "      <td>MID11002</td>\n",
       "      <td>ComponentRepair</td>\n",
       "      <td>170.400133</td>\n",
       "      <td>445.734986</td>\n",
       "      <td>101.051305</td>\n",
       "      <td>40.490451</td>\n",
       "      <td>168462</td>\n",
       "      <td>0.0</td>\n",
       "      <td>2.0</td>\n",
       "      <td>2.0</td>\n",
       "      <td>...</td>\n",
       "      <td>6.0</td>\n",
       "      <td>11.0</td>\n",
       "      <td>6.0</td>\n",
       "      <td>5.0</td>\n",
       "      <td>27.0</td>\n",
       "      <td>1.0</td>\n",
       "      <td>0.0</td>\n",
       "      <td>0.0</td>\n",
       "      <td>0.0</td>\n",
       "      <td>8022.0</td>\n",
       "    </tr>\n",
       "    <tr>\n",
       "      <th>2</th>\n",
       "      <td>MID11003</td>\n",
       "      <td>NoIssue</td>\n",
       "      <td>170.777636</td>\n",
       "      <td>446.128524</td>\n",
       "      <td>100.597922</td>\n",
       "      <td>40.544045</td>\n",
       "      <td>176396</td>\n",
       "      <td>2.0</td>\n",
       "      <td>3.0</td>\n",
       "      <td>3.0</td>\n",
       "      <td>...</td>\n",
       "      <td>8.0</td>\n",
       "      <td>6.0</td>\n",
       "      <td>8.0</td>\n",
       "      <td>5.0</td>\n",
       "      <td>25.0</td>\n",
       "      <td>2.0</td>\n",
       "      <td>0.0</td>\n",
       "      <td>8018.0</td>\n",
       "      <td>0.0</td>\n",
       "      <td>0.0</td>\n",
       "    </tr>\n",
       "    <tr>\n",
       "      <th>3</th>\n",
       "      <td>MID11004</td>\n",
       "      <td>NoIssue</td>\n",
       "      <td>170.727139</td>\n",
       "      <td>445.804482</td>\n",
       "      <td>100.778284</td>\n",
       "      <td>40.586980</td>\n",
       "      <td>176396</td>\n",
       "      <td>4.0</td>\n",
       "      <td>4.0</td>\n",
       "      <td>4.0</td>\n",
       "      <td>...</td>\n",
       "      <td>7.0</td>\n",
       "      <td>7.0</td>\n",
       "      <td>7.0</td>\n",
       "      <td>5.0</td>\n",
       "      <td>23.0</td>\n",
       "      <td>3.0</td>\n",
       "      <td>0.0</td>\n",
       "      <td>0.0</td>\n",
       "      <td>8018.0</td>\n",
       "      <td>0.0</td>\n",
       "    </tr>\n",
       "    <tr>\n",
       "      <th>4</th>\n",
       "      <td>MID11005</td>\n",
       "      <td>ComponentRepair</td>\n",
       "      <td>170.816812</td>\n",
       "      <td>446.050125</td>\n",
       "      <td>100.760865</td>\n",
       "      <td>40.568768</td>\n",
       "      <td>176396</td>\n",
       "      <td>3.0</td>\n",
       "      <td>3.0</td>\n",
       "      <td>5.0</td>\n",
       "      <td>...</td>\n",
       "      <td>4.0</td>\n",
       "      <td>5.0</td>\n",
       "      <td>10.0</td>\n",
       "      <td>6.0</td>\n",
       "      <td>25.0</td>\n",
       "      <td>0.0</td>\n",
       "      <td>0.0</td>\n",
       "      <td>8018.0</td>\n",
       "      <td>0.0</td>\n",
       "      <td>0.0</td>\n",
       "    </tr>\n",
       "  </tbody>\n",
       "</table>\n",
       "<p>5 rows × 26 columns</p>\n",
       "</div>"
      ],
      "text/plain": [
       "  MachineID      ActionPoint     Sensor1     Sensor2     Sensor3    Sensor4  \\\n",
       "0  MID11001  ComponentRepair  171.275328  444.691463  100.890455  40.345920   \n",
       "1  MID11002  ComponentRepair  170.400133  445.734986  101.051305  40.490451   \n",
       "2  MID11003          NoIssue  170.777636  446.128524  100.597922  40.544045   \n",
       "3  MID11004          NoIssue  170.727139  445.804482  100.778284  40.586980   \n",
       "4  MID11005  ComponentRepair  170.816812  446.050125  100.760865  40.568768   \n",
       "\n",
       "   ServicePeriod  ErrorID_error1  ErrorID_error2  ErrorID_error3  \\\n",
       "0         168609             3.0             8.0             7.0   \n",
       "1         168462             0.0             2.0             2.0   \n",
       "2         176396             2.0             3.0             3.0   \n",
       "3         176396             4.0             4.0             4.0   \n",
       "4         176396             3.0             3.0             5.0   \n",
       "\n",
       "          ...           ComponentAttended_Component2  \\\n",
       "0         ...                                   11.0   \n",
       "1         ...                                    6.0   \n",
       "2         ...                                    8.0   \n",
       "3         ...                                    7.0   \n",
       "4         ...                                    4.0   \n",
       "\n",
       "   ComponentAttended_Component3  ComponentAttended_Component4  \\\n",
       "0                           5.0                           6.0   \n",
       "1                          11.0                           6.0   \n",
       "2                           6.0                           8.0   \n",
       "3                           7.0                           7.0   \n",
       "4                           5.0                          10.0   \n",
       "\n",
       "   ComponentAttended_Component1  ServiceType_ComponentRepair  \\\n",
       "0                           8.0                         26.0   \n",
       "1                           5.0                         27.0   \n",
       "2                           5.0                         25.0   \n",
       "3                           5.0                         23.0   \n",
       "4                           6.0                         25.0   \n",
       "\n",
       "   ServiceType_ScheduledService  MachineModel_model2  MachineModel_model3  \\\n",
       "0                           4.0                  0.0                  0.0   \n",
       "1                           1.0                  0.0                  0.0   \n",
       "2                           2.0                  0.0               8018.0   \n",
       "3                           3.0                  0.0                  0.0   \n",
       "4                           0.0                  0.0               8018.0   \n",
       "\n",
       "   MachineModel_model4  MachineModel_model1  \n",
       "0               8029.0                  0.0  \n",
       "1                  0.0               8022.0  \n",
       "2                  0.0                  0.0  \n",
       "3               8018.0                  0.0  \n",
       "4                  0.0                  0.0  \n",
       "\n",
       "[5 rows x 26 columns]"
      ]
     },
     "execution_count": 61,
     "metadata": {},
     "output_type": "execute_result"
    }
   ],
   "source": [
    "\n",
    "Train_with_Final_Sampledata_aggregated_mean=pd.merge(Train, Final_Sampledata_aggregated_mean, how='left', on=['MachineID'])\n",
    "Train_with_Final_Sampledata_aggregated_mean=pd.merge(Train_with_Final_Sampledata_aggregated_mean, Final_Sampledata_aggregated, how='left', on=['MachineID'])\n",
    "Train_with_Final_Sampledata_aggregated_mean.head()"
   ]
  },
  {
   "cell_type": "code",
   "execution_count": 62,
   "metadata": {},
   "outputs": [
    {
     "name": "stdout",
     "output_type": "stream",
     "text": [
      "Total number of Train_with_Final_Sampledata_aggregated_mean records: 674\n"
     ]
    }
   ],
   "source": [
    "print(\"Total number of Train_with_Final_Sampledata_aggregated_mean records: %d\" % len(Train_with_Final_Sampledata_aggregated_mean))"
   ]
  },
  {
   "cell_type": "code",
   "execution_count": 63,
   "metadata": {},
   "outputs": [
    {
     "data": {
      "text/plain": [
       "(674, 26)"
      ]
     },
     "execution_count": 63,
     "metadata": {},
     "output_type": "execute_result"
    }
   ],
   "source": [
    "Train_with_Final_Sampledata_aggregated_mean.shape"
   ]
  },
  {
   "cell_type": "code",
   "execution_count": 64,
   "metadata": {},
   "outputs": [
    {
     "data": {
      "text/html": [
       "<div>\n",
       "<style scoped>\n",
       "    .dataframe tbody tr th:only-of-type {\n",
       "        vertical-align: middle;\n",
       "    }\n",
       "\n",
       "    .dataframe tbody tr th {\n",
       "        vertical-align: top;\n",
       "    }\n",
       "\n",
       "    .dataframe thead th {\n",
       "        text-align: right;\n",
       "    }\n",
       "</style>\n",
       "<table border=\"1\" class=\"dataframe\">\n",
       "  <thead>\n",
       "    <tr style=\"text-align: right;\">\n",
       "      <th></th>\n",
       "      <th>MachineID</th>\n",
       "      <th>Sensor1</th>\n",
       "      <th>Sensor2</th>\n",
       "      <th>Sensor3</th>\n",
       "      <th>Sensor4</th>\n",
       "      <th>ServicePeriod</th>\n",
       "      <th>ErrorID_error1</th>\n",
       "      <th>ErrorID_error2</th>\n",
       "      <th>ErrorID_error3</th>\n",
       "      <th>ErrorID_error4</th>\n",
       "      <th>...</th>\n",
       "      <th>ComponentAttended_Component2</th>\n",
       "      <th>ComponentAttended_Component3</th>\n",
       "      <th>ComponentAttended_Component4</th>\n",
       "      <th>ComponentAttended_Component1</th>\n",
       "      <th>ServiceType_ComponentRepair</th>\n",
       "      <th>ServiceType_ScheduledService</th>\n",
       "      <th>MachineModel_model2</th>\n",
       "      <th>MachineModel_model3</th>\n",
       "      <th>MachineModel_model4</th>\n",
       "      <th>MachineModel_model1</th>\n",
       "    </tr>\n",
       "  </thead>\n",
       "  <tbody>\n",
       "    <tr>\n",
       "      <th>0</th>\n",
       "      <td>MID11006</td>\n",
       "      <td>170.789942</td>\n",
       "      <td>446.822434</td>\n",
       "      <td>100.874603</td>\n",
       "      <td>40.556567</td>\n",
       "      <td>168462</td>\n",
       "      <td>5.0</td>\n",
       "      <td>3.0</td>\n",
       "      <td>3.0</td>\n",
       "      <td>1.0</td>\n",
       "      <td>...</td>\n",
       "      <td>9.0</td>\n",
       "      <td>6.0</td>\n",
       "      <td>8.0</td>\n",
       "      <td>6.0</td>\n",
       "      <td>29.0</td>\n",
       "      <td>0.0</td>\n",
       "      <td>0.0</td>\n",
       "      <td>8022.0</td>\n",
       "      <td>0.0</td>\n",
       "      <td>0.0</td>\n",
       "    </tr>\n",
       "    <tr>\n",
       "      <th>1</th>\n",
       "      <td>MID11007</td>\n",
       "      <td>170.250490</td>\n",
       "      <td>446.762414</td>\n",
       "      <td>101.543546</td>\n",
       "      <td>40.644731</td>\n",
       "      <td>168378</td>\n",
       "      <td>2.0</td>\n",
       "      <td>2.0</td>\n",
       "      <td>1.0</td>\n",
       "      <td>3.0</td>\n",
       "      <td>...</td>\n",
       "      <td>6.0</td>\n",
       "      <td>7.0</td>\n",
       "      <td>7.0</td>\n",
       "      <td>5.0</td>\n",
       "      <td>25.0</td>\n",
       "      <td>0.0</td>\n",
       "      <td>8018.0</td>\n",
       "      <td>0.0</td>\n",
       "      <td>0.0</td>\n",
       "      <td>0.0</td>\n",
       "    </tr>\n",
       "    <tr>\n",
       "      <th>2</th>\n",
       "      <td>MID11039</td>\n",
       "      <td>170.936659</td>\n",
       "      <td>446.313779</td>\n",
       "      <td>100.863704</td>\n",
       "      <td>40.568955</td>\n",
       "      <td>176418</td>\n",
       "      <td>2.0</td>\n",
       "      <td>4.0</td>\n",
       "      <td>4.0</td>\n",
       "      <td>0.0</td>\n",
       "      <td>...</td>\n",
       "      <td>4.0</td>\n",
       "      <td>6.0</td>\n",
       "      <td>7.0</td>\n",
       "      <td>7.0</td>\n",
       "      <td>24.0</td>\n",
       "      <td>0.0</td>\n",
       "      <td>0.0</td>\n",
       "      <td>8019.0</td>\n",
       "      <td>0.0</td>\n",
       "      <td>0.0</td>\n",
       "    </tr>\n",
       "    <tr>\n",
       "      <th>3</th>\n",
       "      <td>MID11045</td>\n",
       "      <td>171.170440</td>\n",
       "      <td>446.943759</td>\n",
       "      <td>100.822644</td>\n",
       "      <td>40.356848</td>\n",
       "      <td>168525</td>\n",
       "      <td>2.0</td>\n",
       "      <td>3.0</td>\n",
       "      <td>3.0</td>\n",
       "      <td>0.0</td>\n",
       "      <td>...</td>\n",
       "      <td>6.0</td>\n",
       "      <td>8.0</td>\n",
       "      <td>10.0</td>\n",
       "      <td>6.0</td>\n",
       "      <td>29.0</td>\n",
       "      <td>1.0</td>\n",
       "      <td>0.0</td>\n",
       "      <td>0.0</td>\n",
       "      <td>8025.0</td>\n",
       "      <td>0.0</td>\n",
       "    </tr>\n",
       "    <tr>\n",
       "      <th>4</th>\n",
       "      <td>MID11049</td>\n",
       "      <td>170.731808</td>\n",
       "      <td>446.511415</td>\n",
       "      <td>100.615469</td>\n",
       "      <td>40.515100</td>\n",
       "      <td>168420</td>\n",
       "      <td>0.0</td>\n",
       "      <td>1.0</td>\n",
       "      <td>1.0</td>\n",
       "      <td>2.0</td>\n",
       "      <td>...</td>\n",
       "      <td>4.0</td>\n",
       "      <td>13.0</td>\n",
       "      <td>7.0</td>\n",
       "      <td>7.0</td>\n",
       "      <td>31.0</td>\n",
       "      <td>0.0</td>\n",
       "      <td>0.0</td>\n",
       "      <td>0.0</td>\n",
       "      <td>8020.0</td>\n",
       "      <td>0.0</td>\n",
       "    </tr>\n",
       "  </tbody>\n",
       "</table>\n",
       "<p>5 rows × 25 columns</p>\n",
       "</div>"
      ],
      "text/plain": [
       "  MachineID     Sensor1     Sensor2     Sensor3    Sensor4  ServicePeriod  \\\n",
       "0  MID11006  170.789942  446.822434  100.874603  40.556567         168462   \n",
       "1  MID11007  170.250490  446.762414  101.543546  40.644731         168378   \n",
       "2  MID11039  170.936659  446.313779  100.863704  40.568955         176418   \n",
       "3  MID11045  171.170440  446.943759  100.822644  40.356848         168525   \n",
       "4  MID11049  170.731808  446.511415  100.615469  40.515100         168420   \n",
       "\n",
       "   ErrorID_error1  ErrorID_error2  ErrorID_error3  ErrorID_error4  \\\n",
       "0             5.0             3.0             3.0             1.0   \n",
       "1             2.0             2.0             1.0             3.0   \n",
       "2             2.0             4.0             4.0             0.0   \n",
       "3             2.0             3.0             3.0             0.0   \n",
       "4             0.0             1.0             1.0             2.0   \n",
       "\n",
       "          ...           ComponentAttended_Component2  \\\n",
       "0         ...                                    9.0   \n",
       "1         ...                                    6.0   \n",
       "2         ...                                    4.0   \n",
       "3         ...                                    6.0   \n",
       "4         ...                                    4.0   \n",
       "\n",
       "   ComponentAttended_Component3  ComponentAttended_Component4  \\\n",
       "0                           6.0                           8.0   \n",
       "1                           7.0                           7.0   \n",
       "2                           6.0                           7.0   \n",
       "3                           8.0                          10.0   \n",
       "4                          13.0                           7.0   \n",
       "\n",
       "   ComponentAttended_Component1  ServiceType_ComponentRepair  \\\n",
       "0                           6.0                         29.0   \n",
       "1                           5.0                         25.0   \n",
       "2                           7.0                         24.0   \n",
       "3                           6.0                         29.0   \n",
       "4                           7.0                         31.0   \n",
       "\n",
       "   ServiceType_ScheduledService  MachineModel_model2  MachineModel_model3  \\\n",
       "0                           0.0                  0.0               8022.0   \n",
       "1                           0.0               8018.0                  0.0   \n",
       "2                           0.0                  0.0               8019.0   \n",
       "3                           1.0                  0.0                  0.0   \n",
       "4                           0.0                  0.0                  0.0   \n",
       "\n",
       "   MachineModel_model4  MachineModel_model1  \n",
       "0                  0.0                  0.0  \n",
       "1                  0.0                  0.0  \n",
       "2                  0.0                  0.0  \n",
       "3               8025.0                  0.0  \n",
       "4               8020.0                  0.0  \n",
       "\n",
       "[5 rows x 25 columns]"
      ]
     },
     "execution_count": 64,
     "metadata": {},
     "output_type": "execute_result"
    }
   ],
   "source": [
    "Test_with_Final_Sampledata_aggregated_mean=pd.merge(Test, Final_Sampledata_aggregated_mean, how='left', on=['MachineID'])\n",
    "Test_with_Final_Sampledata_aggregated_mean=pd.merge(Test_with_Final_Sampledata_aggregated_mean, Final_Sampledata_aggregated, how='left', on=['MachineID'])\n",
    "Test_with_Final_Sampledata_aggregated_mean.head()"
   ]
  },
  {
   "cell_type": "code",
   "execution_count": 65,
   "metadata": {},
   "outputs": [
    {
     "data": {
      "text/plain": [
       "Index(['MachineID', 'Sensor1', 'Sensor2', 'Sensor3', 'Sensor4',\n",
       "       'ServicePeriod', 'ErrorID_error1', 'ErrorID_error2', 'ErrorID_error3',\n",
       "       'ErrorID_error4', 'ErrorID_error5', 'ComponentReplacement_Component2',\n",
       "       'ComponentReplacement_Component3', 'ComponentReplacement_Component4',\n",
       "       'ComponentReplacement_Component1', 'ComponentAttended_Component2',\n",
       "       'ComponentAttended_Component3', 'ComponentAttended_Component4',\n",
       "       'ComponentAttended_Component1', 'ServiceType_ComponentRepair',\n",
       "       'ServiceType_ScheduledService', 'MachineModel_model2',\n",
       "       'MachineModel_model3', 'MachineModel_model4', 'MachineModel_model1'],\n",
       "      dtype='object')"
      ]
     },
     "execution_count": 65,
     "metadata": {},
     "output_type": "execute_result"
    }
   ],
   "source": [
    "Test_with_Final_Sampledata_aggregated_mean.columns"
   ]
  },
  {
   "cell_type": "code",
   "execution_count": 66,
   "metadata": {},
   "outputs": [
    {
     "name": "stdout",
     "output_type": "stream",
     "text": [
      "Total number of Test_with_Final_Sampledata_aggregated_mean records: 326\n"
     ]
    }
   ],
   "source": [
    "print(\"Total number of Test_with_Final_Sampledata_aggregated_mean records: %d\" % len(Test_with_Final_Sampledata_aggregated_mean))"
   ]
  },
  {
   "cell_type": "code",
   "execution_count": 67,
   "metadata": {},
   "outputs": [
    {
     "data": {
      "text/plain": [
       "(326, 25)"
      ]
     },
     "execution_count": 67,
     "metadata": {},
     "output_type": "execute_result"
    }
   ],
   "source": [
    "Test_with_Final_Sampledata_aggregated_mean.shape"
   ]
  },
  {
   "cell_type": "code",
   "execution_count": 68,
   "metadata": {},
   "outputs": [],
   "source": [
    "Train_with_Final_Sampledata_aggregated_mean.to_csv('TrainDataFrame_Sai.csv',index=False)"
   ]
  },
  {
   "cell_type": "code",
   "execution_count": 69,
   "metadata": {},
   "outputs": [],
   "source": [
    "Test_with_Final_Sampledata_aggregated_mean.to_csv('TestDataFrame_Sai.csv',index=False)"
   ]
  },
  {
   "cell_type": "markdown",
   "metadata": {},
   "source": [
    "#### After Getting TrainDataFrame Read the data "
   ]
  },
  {
   "cell_type": "code",
   "execution_count": 70,
   "metadata": {},
   "outputs": [],
   "source": [
    "data = pd.read_csv(\"TrainDataFrame_Sai.csv\")"
   ]
  },
  {
   "cell_type": "code",
   "execution_count": 71,
   "metadata": {},
   "outputs": [
    {
     "data": {
      "text/plain": [
       "MachineID                           object\n",
       "ActionPoint                         object\n",
       "Sensor1                            float64\n",
       "Sensor2                            float64\n",
       "Sensor3                            float64\n",
       "Sensor4                            float64\n",
       "ServicePeriod                        int64\n",
       "ErrorID_error1                     float64\n",
       "ErrorID_error2                     float64\n",
       "ErrorID_error3                     float64\n",
       "ErrorID_error4                     float64\n",
       "ErrorID_error5                     float64\n",
       "ComponentReplacement_Component2    float64\n",
       "ComponentReplacement_Component3    float64\n",
       "ComponentReplacement_Component4    float64\n",
       "ComponentReplacement_Component1    float64\n",
       "ComponentAttended_Component2       float64\n",
       "ComponentAttended_Component3       float64\n",
       "ComponentAttended_Component4       float64\n",
       "ComponentAttended_Component1       float64\n",
       "ServiceType_ComponentRepair        float64\n",
       "ServiceType_ScheduledService       float64\n",
       "MachineModel_model2                float64\n",
       "MachineModel_model3                float64\n",
       "MachineModel_model4                float64\n",
       "MachineModel_model1                float64\n",
       "dtype: object"
      ]
     },
     "execution_count": 71,
     "metadata": {},
     "output_type": "execute_result"
    }
   ],
   "source": [
    "data.dtypes"
   ]
  },
  {
   "cell_type": "code",
   "execution_count": 72,
   "metadata": {},
   "outputs": [
    {
     "name": "stdout",
     "output_type": "stream",
     "text": [
      "Number of rows and columns in the Data: (674, 26)\n"
     ]
    }
   ],
   "source": [
    "print('Number of rows and columns in the Data:', data.shape)"
   ]
  },
  {
   "cell_type": "code",
   "execution_count": 73,
   "metadata": {},
   "outputs": [
    {
     "name": "stdout",
     "output_type": "stream",
     "text": [
      "There are 2 categorical variables\n",
      "There are 24 numerical variables\n"
     ]
    }
   ],
   "source": [
    "# Finding Categorical & Numerical variables in the Data\n",
    "categorical = [var for var in data.columns if data[var].dtype=='O']\n",
    "print('There are {} categorical variables'.format(len(categorical)))\n",
    "numerical = [var for var in data.columns if data[var].dtype!='O']\n",
    "print('There are {} numerical variables'.format(len(numerical)))"
   ]
  },
  {
   "cell_type": "code",
   "execution_count": 74,
   "metadata": {},
   "outputs": [
    {
     "name": "stdout",
     "output_type": "stream",
     "text": [
      "Index(['MachineID', 'ActionPoint'], dtype='object')\n",
      "Index(['Sensor1', 'Sensor2', 'Sensor3', 'Sensor4', 'ServicePeriod',\n",
      "       'ErrorID_error1', 'ErrorID_error2', 'ErrorID_error3', 'ErrorID_error4',\n",
      "       'ErrorID_error5', 'ComponentReplacement_Component2',\n",
      "       'ComponentReplacement_Component3', 'ComponentReplacement_Component4',\n",
      "       'ComponentReplacement_Component1', 'ComponentAttended_Component2',\n",
      "       'ComponentAttended_Component3', 'ComponentAttended_Component4',\n",
      "       'ComponentAttended_Component1', 'ServiceType_ComponentRepair',\n",
      "       'ServiceType_ScheduledService', 'MachineModel_model2',\n",
      "       'MachineModel_model3', 'MachineModel_model4', 'MachineModel_model1'],\n",
      "      dtype='object')\n"
     ]
    }
   ],
   "source": [
    "# Categorical and Numercal Variables \n",
    "print(data[categorical].columns)\n",
    "print(data[numerical].columns)"
   ]
  },
  {
   "cell_type": "code",
   "execution_count": 75,
   "metadata": {},
   "outputs": [
    {
     "data": {
      "text/plain": [
       "ComponentRepair         413\n",
       "NoIssue                 191\n",
       "ComponentReplacement     70\n",
       "Name: ActionPoint, dtype: int64"
      ]
     },
     "execution_count": 75,
     "metadata": {},
     "output_type": "execute_result"
    }
   ],
   "source": [
    "data['ActionPoint'].value_counts()"
   ]
  },
  {
   "cell_type": "code",
   "execution_count": 76,
   "metadata": {},
   "outputs": [
    {
     "data": {
      "text/plain": [
       "<matplotlib.axes._subplots.AxesSubplot at 0x17b0fa1fe48>"
      ]
     },
     "execution_count": 76,
     "metadata": {},
     "output_type": "execute_result"
    },
    {
     "data": {
      "image/png": "[encoded data removed]",
      "text/plain": [
       "<matplotlib.figure.Figure at 0x17b0fa1fc50>"
      ]
     },
     "metadata": {},
     "output_type": "display_data"
    }
   ],
   "source": [
    "data['ActionPoint'].value_counts().plot.bar()"
   ]
  },
  {
   "cell_type": "code",
   "execution_count": 77,
   "metadata": {},
   "outputs": [
    {
     "data": {
      "text/plain": [
       "array(['ComponentRepair', 'NoIssue', 'ComponentReplacement'], dtype=object)"
      ]
     },
     "execution_count": 77,
     "metadata": {},
     "output_type": "execute_result"
    }
   ],
   "source": [
    "data['ActionPoint'].unique()"
   ]
  },
  {
   "cell_type": "code",
   "execution_count": 78,
   "metadata": {},
   "outputs": [],
   "source": [
    "X = data.drop(['ActionPoint','MachineID'],axis=1)"
   ]
  },
  {
   "cell_type": "code",
   "execution_count": 79,
   "metadata": {},
   "outputs": [],
   "source": [
    "y = data['ActionPoint']"
   ]
  },
  {
   "cell_type": "code",
   "execution_count": 80,
   "metadata": {},
   "outputs": [],
   "source": [
    "TestFrame = pd.read_csv(\"TestDataFrame_Sai.csv\")"
   ]
  },
  {
   "cell_type": "code",
   "execution_count": 81,
   "metadata": {},
   "outputs": [],
   "source": [
    "aft_tst_DRP = TestFrame.drop(['MachineID'],axis=1)"
   ]
  },
  {
   "cell_type": "markdown",
   "metadata": {},
   "source": [
    "##### Train_Test_SPLIT"
   ]
  },
  {
   "cell_type": "code",
   "execution_count": 82,
   "metadata": {},
   "outputs": [],
   "source": [
    "# to divide train and test set\n",
    "from sklearn.model_selection import train_test_split"
   ]
  },
  {
   "cell_type": "code",
   "execution_count": 83,
   "metadata": {},
   "outputs": [],
   "source": [
    "# Let's separate into train and test set\n",
    "X_train, X_val, y_train, y_val = train_test_split(X, y, test_size=0.3, random_state=123)"
   ]
  },
  {
   "cell_type": "code",
   "execution_count": 84,
   "metadata": {},
   "outputs": [
    {
     "name": "stdout",
     "output_type": "stream",
     "text": [
      "Training Features Shape: (471, 24)\n",
      "Training Labels Shape: (471,)\n",
      "Validation Features Shape: (203, 24)\n",
      "Validation Target Shape: (203,)\n"
     ]
    }
   ],
   "source": [
    "print('Training Features Shape:', X_train.shape)\n",
    "print('Training Labels Shape:', y_train.shape)\n",
    "print('Validation Features Shape:', X_val.shape)\n",
    "print('Validation Target Shape:', y_val.shape)"
   ]
  },
  {
   "cell_type": "code",
   "execution_count": 85,
   "metadata": {},
   "outputs": [
    {
     "data": {
      "text/plain": [
       "MachineID      object\n",
       "ActionPoint    object\n",
       "dtype: object"
      ]
     },
     "execution_count": 85,
     "metadata": {},
     "output_type": "execute_result"
    }
   ],
   "source": [
    "Train.dtypes"
   ]
  },
  {
   "cell_type": "markdown",
   "metadata": {},
   "source": [
    "##### Model Building"
   ]
  },
  {
   "cell_type": "code",
   "execution_count": 86,
   "metadata": {},
   "outputs": [],
   "source": [
    "from sklearn.svm import SVC\n",
    "supportvector = SVC(C=1.0,kernel='rbf',class_weight='balanced',probability=True)"
   ]
  },
  {
   "cell_type": "code",
   "execution_count": 87,
   "metadata": {},
   "outputs": [
    {
     "name": "stderr",
     "output_type": "stream",
     "text": [
      "C:\\Users\\Pavilion\\Anaconda3\\lib\\site-packages\\sklearn\\svm\\base.py:193: FutureWarning: The default value of gamma will change from 'auto' to 'scale' in version 0.22 to account better for unscaled features. Set gamma explicitly to 'auto' or 'scale' to avoid this warning.\n",
      "  \"avoid this warning.\", FutureWarning)\n"
     ]
    },
    {
     "data": {
      "text/plain": [
       "SVC(C=1.0, cache_size=200, class_weight='balanced', coef0=0.0,\n",
       "    decision_function_shape='ovr', degree=3, gamma='auto_deprecated',\n",
       "    kernel='rbf', max_iter=-1, probability=True, random_state=None,\n",
       "    shrinking=True, tol=0.001, verbose=False)"
      ]
     },
     "execution_count": 87,
     "metadata": {},
     "output_type": "execute_result"
    }
   ],
   "source": [
    "supportvector.fit(X_train,y_train)"
   ]
  },
  {
   "cell_type": "code",
   "execution_count": 88,
   "metadata": {},
   "outputs": [],
   "source": [
    "#Predicting On validation set\n",
    "predictions = supportvector.predict(aft_tst_DRP)"
   ]
  },
  {
   "cell_type": "code",
   "execution_count": 89,
   "metadata": {},
   "outputs": [],
   "source": [
    "predictions_count = np.unique(predictions,return_counts=True)"
   ]
  },
  {
   "cell_type": "code",
   "execution_count": 90,
   "metadata": {},
   "outputs": [
    {
     "name": "stdout",
     "output_type": "stream",
     "text": [
      "['ComponentRepair' 'NoIssue']\n",
      "[325   1]\n"
     ]
    }
   ],
   "source": [
    "print(predictions_count[0])\n",
    "print(predictions_count[1])"
   ]
  },
  {
   "cell_type": "code",
   "execution_count": 91,
   "metadata": {},
   "outputs": [
    {
     "name": "stdout",
     "output_type": "stream",
     "text": [
      "0.5911330049261084\n",
      "                      precision    recall  f1-score   support\n",
      "\n",
      "     ComponentRepair       0.59      1.00      0.74       120\n",
      "ComponentReplacement       0.00      0.00      0.00        23\n",
      "             NoIssue       0.00      0.00      0.00        60\n",
      "\n",
      "            accuracy                           0.59       203\n",
      "           macro avg       0.20      0.33      0.25       203\n",
      "        weighted avg       0.35      0.59      0.44       203\n",
      "\n"
     ]
    },
    {
     "name": "stderr",
     "output_type": "stream",
     "text": [
      "C:\\Users\\Pavilion\\Anaconda3\\lib\\site-packages\\sklearn\\metrics\\classification.py:1437: UndefinedMetricWarning: Precision and F-score are ill-defined and being set to 0.0 in labels with no predicted samples.\n",
      "  'precision', 'predicted', average, warn_for)\n"
     ]
    }
   ],
   "source": [
    "### Predicting the Validation Accuracy and classification Report\n",
    "from sklearn.metrics import f1_score,accuracy_score,classification_report\n",
    "print(f1_score(y_val, supportvector.predict(X_val),average='micro'))\n",
    "print(classification_report(y_val,supportvector.predict(X_val)))"
   ]
  },
  {
   "cell_type": "code",
   "execution_count": 92,
   "metadata": {},
   "outputs": [
    {
     "data": {
      "text/html": [
       "<div>\n",
       "<style scoped>\n",
       "    .dataframe tbody tr th:only-of-type {\n",
       "        vertical-align: middle;\n",
       "    }\n",
       "\n",
       "    .dataframe tbody tr th {\n",
       "        vertical-align: top;\n",
       "    }\n",
       "\n",
       "    .dataframe thead th {\n",
       "        text-align: right;\n",
       "    }\n",
       "</style>\n",
       "<table border=\"1\" class=\"dataframe\">\n",
       "  <thead>\n",
       "    <tr style=\"text-align: right;\">\n",
       "      <th></th>\n",
       "      <th>Unnamed: 0</th>\n",
       "      <th>MachineID</th>\n",
       "      <th>ActionPoint</th>\n",
       "    </tr>\n",
       "  </thead>\n",
       "  <tbody>\n",
       "    <tr>\n",
       "      <th>0</th>\n",
       "      <td>1</td>\n",
       "      <td>MID11006</td>\n",
       "      <td>ComponentRepair</td>\n",
       "    </tr>\n",
       "    <tr>\n",
       "      <th>1</th>\n",
       "      <td>2</td>\n",
       "      <td>MID11007</td>\n",
       "      <td>ComponentRepair</td>\n",
       "    </tr>\n",
       "    <tr>\n",
       "      <th>2</th>\n",
       "      <td>3</td>\n",
       "      <td>MID11039</td>\n",
       "      <td>ComponentRepair</td>\n",
       "    </tr>\n",
       "    <tr>\n",
       "      <th>3</th>\n",
       "      <td>4</td>\n",
       "      <td>MID11045</td>\n",
       "      <td>ComponentRepair</td>\n",
       "    </tr>\n",
       "    <tr>\n",
       "      <th>4</th>\n",
       "      <td>5</td>\n",
       "      <td>MID11049</td>\n",
       "      <td>ComponentRepair</td>\n",
       "    </tr>\n",
       "  </tbody>\n",
       "</table>\n",
       "</div>"
      ],
      "text/plain": [
       "   Unnamed: 0 MachineID      ActionPoint\n",
       "0           1  MID11006  ComponentRepair\n",
       "1           2  MID11007  ComponentRepair\n",
       "2           3  MID11039  ComponentRepair\n",
       "3           4  MID11045  ComponentRepair\n",
       "4           5  MID11049  ComponentRepair"
      ]
     },
     "execution_count": 92,
     "metadata": {},
     "output_type": "execute_result"
    }
   ],
   "source": [
    "submission = pd.read_csv('sample_submission.csv')\n",
    "submission['ActionPoint']=predictions\n",
    "submission.head()"
   ]
  },
  {
   "cell_type": "code",
   "execution_count": 93,
   "metadata": {},
   "outputs": [],
   "source": [
    "submission1 = submission.to_csv('SVM_Basemodel_Predictions_Sai.csv')"
   ]
  },
  {
   "cell_type": "code",
   "execution_count": 94,
   "metadata": {},
   "outputs": [
    {
     "data": {
      "text/plain": [
       "((879, 24), (879,))"
      ]
     },
     "execution_count": 94,
     "metadata": {},
     "output_type": "execute_result"
    }
   ],
   "source": [
    "import imblearn\n",
    "# creating object for smote \n",
    "sm = SMOTE(random_state=103)\n",
    "X_train_res, y_train_res = sm.fit_sample(X_train, y_train.ravel())\n",
    "X_train_res.shape,y_train_res.shape"
   ]
  },
  {
   "cell_type": "markdown",
   "metadata": {},
   "source": [
    "##### Logistic Regression"
   ]
  },
  {
   "cell_type": "code",
   "execution_count": 95,
   "metadata": {},
   "outputs": [
    {
     "name": "stderr",
     "output_type": "stream",
     "text": [
      "C:\\Users\\Pavilion\\Anaconda3\\lib\\site-packages\\sklearn\\linear_model\\logistic.py:432: FutureWarning: Default solver will be changed to 'lbfgs' in 0.22. Specify a solver to silence this warning.\n",
      "  FutureWarning)\n",
      "C:\\Users\\Pavilion\\Anaconda3\\lib\\site-packages\\sklearn\\linear_model\\logistic.py:469: FutureWarning: Default multi_class will be changed to 'auto' in 0.22. Specify the multi_class option to silence this warning.\n",
      "  \"this warning.\", FutureWarning)\n"
     ]
    },
    {
     "data": {
      "text/plain": [
       "LogisticRegression(C=1.0, class_weight=None, dual=False, fit_intercept=True,\n",
       "                   intercept_scaling=1, l1_ratio=None, max_iter=100,\n",
       "                   multi_class='warn', n_jobs=None, penalty='l2',\n",
       "                   random_state=None, solver='warn', tol=0.0001, verbose=0,\n",
       "                   warm_start=False)"
      ]
     },
     "execution_count": 95,
     "metadata": {},
     "output_type": "execute_result"
    }
   ],
   "source": [
    "from sklearn.linear_model import LogisticRegression\n",
    "model = LogisticRegression()\n",
    "model.fit(X_train_res, y_train_res)"
   ]
  },
  {
   "cell_type": "code",
   "execution_count": 96,
   "metadata": {},
   "outputs": [],
   "source": [
    "#Predicting On validation set\n",
    "predictions2 = model.predict(aft_tst_DRP)"
   ]
  },
  {
   "cell_type": "code",
   "execution_count": 97,
   "metadata": {},
   "outputs": [],
   "source": [
    "predictions2_count = np.unique(predictions2,return_counts=True)"
   ]
  },
  {
   "cell_type": "code",
   "execution_count": 98,
   "metadata": {},
   "outputs": [
    {
     "name": "stdout",
     "output_type": "stream",
     "text": [
      "['ComponentRepair' 'ComponentReplacement' 'NoIssue']\n",
      "[ 44  75 207]\n"
     ]
    }
   ],
   "source": [
    "print(predictions2_count[0])\n",
    "print(predictions2_count[1])"
   ]
  },
  {
   "cell_type": "code",
   "execution_count": 99,
   "metadata": {},
   "outputs": [
    {
     "name": "stdout",
     "output_type": "stream",
     "text": [
      "0.37438423645320196\n",
      "                      precision    recall  f1-score   support\n",
      "\n",
      "     ComponentRepair       0.56      0.15      0.24       120\n",
      "ComponentReplacement       0.22      0.74      0.33        23\n",
      "             NoIssue       0.45      0.68      0.54        60\n",
      "\n",
      "            accuracy                           0.37       203\n",
      "           macro avg       0.41      0.52      0.37       203\n",
      "        weighted avg       0.49      0.37      0.34       203\n",
      "\n"
     ]
    }
   ],
   "source": [
    "from sklearn.metrics import f1_score,accuracy_score,classification_report\n",
    "print(f1_score(y_val, model.predict(X_val),average='micro'))\n",
    "print(classification_report(y_val,model.predict(X_val)))"
   ]
  },
  {
   "cell_type": "code",
   "execution_count": 101,
   "metadata": {},
   "outputs": [
    {
     "data": {
      "text/html": [
       "<div>\n",
       "<style scoped>\n",
       "    .dataframe tbody tr th:only-of-type {\n",
       "        vertical-align: middle;\n",
       "    }\n",
       "\n",
       "    .dataframe tbody tr th {\n",
       "        vertical-align: top;\n",
       "    }\n",
       "\n",
       "    .dataframe thead th {\n",
       "        text-align: right;\n",
       "    }\n",
       "</style>\n",
       "<table border=\"1\" class=\"dataframe\">\n",
       "  <thead>\n",
       "    <tr style=\"text-align: right;\">\n",
       "      <th></th>\n",
       "      <th>Unnamed: 0</th>\n",
       "      <th>MachineID</th>\n",
       "      <th>ActionPoint</th>\n",
       "    </tr>\n",
       "  </thead>\n",
       "  <tbody>\n",
       "    <tr>\n",
       "      <th>0</th>\n",
       "      <td>1</td>\n",
       "      <td>MID11006</td>\n",
       "      <td>ComponentReplacement</td>\n",
       "    </tr>\n",
       "    <tr>\n",
       "      <th>1</th>\n",
       "      <td>2</td>\n",
       "      <td>MID11007</td>\n",
       "      <td>ComponentReplacement</td>\n",
       "    </tr>\n",
       "    <tr>\n",
       "      <th>2</th>\n",
       "      <td>3</td>\n",
       "      <td>MID11039</td>\n",
       "      <td>ComponentRepair</td>\n",
       "    </tr>\n",
       "    <tr>\n",
       "      <th>3</th>\n",
       "      <td>4</td>\n",
       "      <td>MID11045</td>\n",
       "      <td>ComponentReplacement</td>\n",
       "    </tr>\n",
       "    <tr>\n",
       "      <th>4</th>\n",
       "      <td>5</td>\n",
       "      <td>MID11049</td>\n",
       "      <td>ComponentReplacement</td>\n",
       "    </tr>\n",
       "  </tbody>\n",
       "</table>\n",
       "</div>"
      ],
      "text/plain": [
       "   Unnamed: 0 MachineID           ActionPoint\n",
       "0           1  MID11006  ComponentReplacement\n",
       "1           2  MID11007  ComponentReplacement\n",
       "2           3  MID11039       ComponentRepair\n",
       "3           4  MID11045  ComponentReplacement\n",
       "4           5  MID11049  ComponentReplacement"
      ]
     },
     "execution_count": 101,
     "metadata": {},
     "output_type": "execute_result"
    }
   ],
   "source": [
    "submission2 = pd.read_csv('sample_submission.csv')\n",
    "submission2['ActionPoint']=predictions2\n",
    "submission2.head()"
   ]
  },
  {
   "cell_type": "code",
   "execution_count": 102,
   "metadata": {},
   "outputs": [],
   "source": [
    "submission2.to_csv('predictions_Sai.csv')"
   ]
  },
  {
   "cell_type": "markdown",
   "metadata": {},
   "source": [
    "##### KNN Model"
   ]
  },
  {
   "cell_type": "code",
   "execution_count": 103,
   "metadata": {},
   "outputs": [],
   "source": [
    "#model building using KNN\n",
    "from sklearn.neighbors import KNeighborsClassifier\n",
    "knn = KNeighborsClassifier(n_neighbors = 7).fit(X_train_res, y_train_res)"
   ]
  },
  {
   "cell_type": "code",
   "execution_count": 104,
   "metadata": {},
   "outputs": [],
   "source": [
    "#Predicting On validation set\n",
    "predictions1 = knn.predict(aft_tst_DRP)"
   ]
  },
  {
   "cell_type": "code",
   "execution_count": 105,
   "metadata": {},
   "outputs": [],
   "source": [
    "predictions1_count = np.unique(predictions1,return_counts=True)"
   ]
  },
  {
   "cell_type": "code",
   "execution_count": 106,
   "metadata": {},
   "outputs": [
    {
     "name": "stdout",
     "output_type": "stream",
     "text": [
      "['ComponentRepair' 'ComponentReplacement' 'NoIssue']\n",
      "[192  22 112]\n"
     ]
    }
   ],
   "source": [
    "print(predictions1_count[0])\n",
    "print(predictions1_count[1])"
   ]
  },
  {
   "cell_type": "code",
   "execution_count": 107,
   "metadata": {},
   "outputs": [
    {
     "name": "stdout",
     "output_type": "stream",
     "text": [
      "0.49753694581280794\n",
      "                      precision    recall  f1-score   support\n",
      "\n",
      "     ComponentRepair       0.61      0.62      0.62       120\n",
      "ComponentReplacement       0.15      0.17      0.16        23\n",
      "             NoIssue       0.41      0.37      0.39        60\n",
      "\n",
      "            accuracy                           0.50       203\n",
      "           macro avg       0.39      0.39      0.39       203\n",
      "        weighted avg       0.50      0.50      0.50       203\n",
      "\n"
     ]
    }
   ],
   "source": [
    "from sklearn.metrics import f1_score,accuracy_score,classification_report\n",
    "print(f1_score(y_val, knn.predict(X_val),average='micro'))\n",
    "print(classification_report(y_val,knn.predict(X_val)))"
   ]
  },
  {
   "cell_type": "code",
   "execution_count": 109,
   "metadata": {},
   "outputs": [
    {
     "data": {
      "text/html": [
       "<div>\n",
       "<style scoped>\n",
       "    .dataframe tbody tr th:only-of-type {\n",
       "        vertical-align: middle;\n",
       "    }\n",
       "\n",
       "    .dataframe tbody tr th {\n",
       "        vertical-align: top;\n",
       "    }\n",
       "\n",
       "    .dataframe thead th {\n",
       "        text-align: right;\n",
       "    }\n",
       "</style>\n",
       "<table border=\"1\" class=\"dataframe\">\n",
       "  <thead>\n",
       "    <tr style=\"text-align: right;\">\n",
       "      <th></th>\n",
       "      <th>Unnamed: 0</th>\n",
       "      <th>MachineID</th>\n",
       "      <th>ActionPoint</th>\n",
       "    </tr>\n",
       "  </thead>\n",
       "  <tbody>\n",
       "    <tr>\n",
       "      <th>0</th>\n",
       "      <td>1</td>\n",
       "      <td>MID11006</td>\n",
       "      <td>ComponentReplacement</td>\n",
       "    </tr>\n",
       "    <tr>\n",
       "      <th>1</th>\n",
       "      <td>2</td>\n",
       "      <td>MID11007</td>\n",
       "      <td>ComponentReplacement</td>\n",
       "    </tr>\n",
       "    <tr>\n",
       "      <th>2</th>\n",
       "      <td>3</td>\n",
       "      <td>MID11039</td>\n",
       "      <td>ComponentRepair</td>\n",
       "    </tr>\n",
       "    <tr>\n",
       "      <th>3</th>\n",
       "      <td>4</td>\n",
       "      <td>MID11045</td>\n",
       "      <td>ComponentRepair</td>\n",
       "    </tr>\n",
       "    <tr>\n",
       "      <th>4</th>\n",
       "      <td>5</td>\n",
       "      <td>MID11049</td>\n",
       "      <td>ComponentReplacement</td>\n",
       "    </tr>\n",
       "  </tbody>\n",
       "</table>\n",
       "</div>"
      ],
      "text/plain": [
       "   Unnamed: 0 MachineID           ActionPoint\n",
       "0           1  MID11006  ComponentReplacement\n",
       "1           2  MID11007  ComponentReplacement\n",
       "2           3  MID11039       ComponentRepair\n",
       "3           4  MID11045       ComponentRepair\n",
       "4           5  MID11049  ComponentReplacement"
      ]
     },
     "execution_count": 109,
     "metadata": {},
     "output_type": "execute_result"
    }
   ],
   "source": [
    "submission = pd.read_csv('sample_submission.csv')\n",
    "submission['ActionPoint']=predictions1\n",
    "submission.head()"
   ]
  },
  {
   "cell_type": "code",
   "execution_count": 110,
   "metadata": {},
   "outputs": [],
   "source": [
    "submission.to_csv('SVM_Basemodel_Predictions_sai.csv')"
   ]
  },
  {
   "cell_type": "markdown",
   "metadata": {},
   "source": [
    "##### Random Forest"
   ]
  },
  {
   "cell_type": "code",
   "execution_count": 111,
   "metadata": {},
   "outputs": [],
   "source": [
    "from sklearn.ensemble import RandomForestClassifier\n",
    "clf = RandomForestClassifier(n_estimators=63,max_depth=15, random_state=0, min_samples_leaf= 1)\n",
    "clf=clf.fit(X_train_res, y_train_res)"
   ]
  },
  {
   "cell_type": "code",
   "execution_count": 112,
   "metadata": {},
   "outputs": [],
   "source": [
    "#Predicting On validation set\n",
    "predictions3 = clf.predict(aft_tst_DRP)"
   ]
  },
  {
   "cell_type": "code",
   "execution_count": 113,
   "metadata": {},
   "outputs": [],
   "source": [
    "predictions3_count = np.unique(predictions3,return_counts=True)"
   ]
  },
  {
   "cell_type": "code",
   "execution_count": 114,
   "metadata": {},
   "outputs": [
    {
     "name": "stdout",
     "output_type": "stream",
     "text": [
      "['ComponentRepair' 'ComponentReplacement' 'NoIssue']\n",
      "[208  16 102]\n"
     ]
    }
   ],
   "source": [
    "print(predictions3_count[0])\n",
    "print(predictions3_count[1])"
   ]
  },
  {
   "cell_type": "code",
   "execution_count": 115,
   "metadata": {},
   "outputs": [
    {
     "name": "stdout",
     "output_type": "stream",
     "text": [
      "0.49753694581280794\n",
      "                      precision    recall  f1-score   support\n",
      "\n",
      "     ComponentRepair       0.61      0.71      0.66       120\n",
      "ComponentReplacement       0.25      0.17      0.21        23\n",
      "             NoIssue       0.46      0.37      0.41        60\n",
      "\n",
      "            accuracy                           0.55       203\n",
      "           macro avg       0.44      0.42      0.42       203\n",
      "        weighted avg       0.53      0.55      0.53       203\n",
      "\n"
     ]
    }
   ],
   "source": [
    "from sklearn.metrics import f1_score,accuracy_score,classification_report\n",
    "print(f1_score(y_val, knn.predict(X_val),average='micro'))\n",
    "print(classification_report(y_val,clf.predict(X_val)))"
   ]
  },
  {
   "cell_type": "code",
   "execution_count": 116,
   "metadata": {},
   "outputs": [
    {
     "data": {
      "text/html": [
       "<div>\n",
       "<style scoped>\n",
       "    .dataframe tbody tr th:only-of-type {\n",
       "        vertical-align: middle;\n",
       "    }\n",
       "\n",
       "    .dataframe tbody tr th {\n",
       "        vertical-align: top;\n",
       "    }\n",
       "\n",
       "    .dataframe thead th {\n",
       "        text-align: right;\n",
       "    }\n",
       "</style>\n",
       "<table border=\"1\" class=\"dataframe\">\n",
       "  <thead>\n",
       "    <tr style=\"text-align: right;\">\n",
       "      <th></th>\n",
       "      <th>Unnamed: 0</th>\n",
       "      <th>MachineID</th>\n",
       "      <th>ActionPoint</th>\n",
       "    </tr>\n",
       "  </thead>\n",
       "  <tbody>\n",
       "    <tr>\n",
       "      <th>0</th>\n",
       "      <td>1</td>\n",
       "      <td>MID11006</td>\n",
       "      <td>ComponentRepair</td>\n",
       "    </tr>\n",
       "    <tr>\n",
       "      <th>1</th>\n",
       "      <td>2</td>\n",
       "      <td>MID11007</td>\n",
       "      <td>ComponentRepair</td>\n",
       "    </tr>\n",
       "    <tr>\n",
       "      <th>2</th>\n",
       "      <td>3</td>\n",
       "      <td>MID11039</td>\n",
       "      <td>ComponentRepair</td>\n",
       "    </tr>\n",
       "    <tr>\n",
       "      <th>3</th>\n",
       "      <td>4</td>\n",
       "      <td>MID11045</td>\n",
       "      <td>ComponentRepair</td>\n",
       "    </tr>\n",
       "    <tr>\n",
       "      <th>4</th>\n",
       "      <td>5</td>\n",
       "      <td>MID11049</td>\n",
       "      <td>ComponentReplacement</td>\n",
       "    </tr>\n",
       "  </tbody>\n",
       "</table>\n",
       "</div>"
      ],
      "text/plain": [
       "   Unnamed: 0 MachineID           ActionPoint\n",
       "0           1  MID11006       ComponentRepair\n",
       "1           2  MID11007       ComponentRepair\n",
       "2           3  MID11039       ComponentRepair\n",
       "3           4  MID11045       ComponentRepair\n",
       "4           5  MID11049  ComponentReplacement"
      ]
     },
     "execution_count": 116,
     "metadata": {},
     "output_type": "execute_result"
    }
   ],
   "source": [
    "submission3 = pd.read_csv('sample_submission.csv')\n",
    "submission3['ActionPoint']=predictions3\n",
    "submission3.head()"
   ]
  },
  {
   "cell_type": "code",
   "execution_count": 117,
   "metadata": {},
   "outputs": [],
   "source": [
    "submission3.to_csv('FinalPREDICTIONS_Sai.csv')"
   ]
  },
  {
   "cell_type": "markdown",
   "metadata": {},
   "source": [
    "##### Visualizations"
   ]
  },
  {
   "cell_type": "markdown",
   "metadata": {},
   "source": [
    "##### ======================================================================================================"
   ]
  },
  {
   "cell_type": "markdown",
   "metadata": {},
   "source": [
    "#### ComplaintsLog Visualization"
   ]
  },
  {
   "cell_type": "code",
   "execution_count": 118,
   "metadata": {
    "scrolled": true
   },
   "outputs": [
    {
     "data": {
      "text/plain": [
       "error2    3399\n",
       "error3    3239\n",
       "error1    2902\n",
       "error4    1659\n",
       "error5    1429\n",
       "Name: ErrorID, dtype: int64"
      ]
     },
     "execution_count": 118,
     "metadata": {},
     "output_type": "execute_result"
    },
    {
     "data": {
      "image/png": "[encoded data removed]",
      "text/plain": [
       "<matplotlib.figure.Figure at 0x20d854e1be0>"
      ]
     },
     "metadata": {},
     "output_type": "display_data"
    }
   ],
   "source": [
    "sns.set_style(\"darkgrid\")\n",
    "plt.figure(figsize=(10, 8))\n",
    "ComplaintsLog['ErrorID'].value_counts().plot(kind='bar')\n",
    "plt.ylabel('Count')\n",
    "ComplaintsLog['ErrorID'].value_counts()"
   ]
  },
  {
   "cell_type": "markdown",
   "metadata": {},
   "source": [
    "###### Here after plotting the ComplaintsLog['ErrorID'] it's showing the frequency of error1,error2 and error3 more as compared to remaining errors"
   ]
  },
  {
   "cell_type": "markdown",
   "metadata": {},
   "source": [
    "##### ================================================================================================================"
   ]
  },
  {
   "cell_type": "markdown",
   "metadata": {},
   "source": [
    "#### ComponentReplacementLog Visualization"
   ]
  },
  {
   "cell_type": "code",
   "execution_count": 119,
   "metadata": {},
   "outputs": [
    {
     "data": {
      "text/plain": [
       "Component2    2737\n",
       "Component1    1989\n",
       "Component4    1319\n",
       "Component3    1042\n",
       "Name: ComponentReplacement, dtype: int64"
      ]
     },
     "execution_count": 119,
     "metadata": {},
     "output_type": "execute_result"
    },
    {
     "data": {
      "image/png": "[encoded data removed]",
      "text/plain": [
       "<matplotlib.figure.Figure at 0x20d854fb080>"
      ]
     },
     "metadata": {},
     "output_type": "display_data"
    }
   ],
   "source": [
    "sns.set_style(\"darkgrid\")\n",
    "plt.figure(figsize=(10, 8))\n",
    "ComponentReplacementLog['ComponentReplacement'].value_counts().plot(kind='bar')\n",
    "plt.ylabel('Count')\n",
    "ComponentReplacementLog['ComponentReplacement'].value_counts()"
   ]
  },
  {
   "cell_type": "markdown",
   "metadata": {},
   "source": [
    "###### Here after plotting the ComponentReplacementLog['ComponentReplacement'] it's showing the frequency of Component2 is more as compared to remaining Components"
   ]
  },
  {
   "cell_type": "markdown",
   "metadata": {},
   "source": [
    "##### ==================================================================================================================="
   ]
  },
  {
   "cell_type": "code",
   "execution_count": 120,
   "metadata": {},
   "outputs": [
    {
     "name": "stderr",
     "output_type": "stream",
     "text": [
      "C:\\Users\\Gollas\\Anaconda3\\lib\\site-packages\\numpy\\core\\fromnumeric.py:52: FutureWarning: reshape is deprecated and will raise in a subsequent release. Please use .values.reshape(...) instead\n",
      "  return getattr(obj, method)(*args, **kwds)\n"
     ]
    },
    {
     "data": {
      "text/plain": [
       "<matplotlib.legend.Legend at 0x20d85501978>"
      ]
     },
     "execution_count": 120,
     "metadata": {},
     "output_type": "execute_result"
    },
    {
     "data": {
      "image/png": "[encoded data removed]",
      "text/plain": [
       "<matplotlib.figure.Figure at 0x20d855644e0>"
      ]
     },
     "metadata": {},
     "output_type": "display_data"
    }
   ],
   "source": [
    "sns.set_style(\"darkgrid\")\n",
    "plt.figure(figsize=(10, 8))\n",
    "_, bins, _ = plt.hist([MachinesDetails.loc[MachinesDetails['MachineModel'] == 'model1', 'ServicePeriod'],\n",
    "                       MachinesDetails.loc[MachinesDetails['MachineModel'] == 'model2', 'ServicePeriod'],\n",
    "                       MachinesDetails.loc[MachinesDetails['MachineModel'] == 'model3', 'ServicePeriod'],\n",
    "                       MachinesDetails.loc[MachinesDetails['MachineModel'] == 'model3', 'ServicePeriod']],\n",
    "                       20, stacked=True, label=['model1', 'model2', 'model3', 'model4'])\n",
    "plt.xlabel('ServicePeriod (yrs)')\n",
    "plt.ylabel('Count')\n",
    "plt.legend()\n"
   ]
  },
  {
   "cell_type": "markdown",
   "metadata": {},
   "source": [
    "###### visualizing hist plot on the machine Model with count of it's service period: Model4 count is more as compared to remaing models"
   ]
  },
  {
   "cell_type": "markdown",
   "metadata": {},
   "source": [
    "##### =================================================================================================================="
   ]
  },
  {
   "cell_type": "markdown",
   "metadata": {},
   "source": [
    "##### ComponentServiceLog Visualization"
   ]
  },
  {
   "cell_type": "code",
   "execution_count": 121,
   "metadata": {},
   "outputs": [
    {
     "data": {
      "text/plain": [
       "<matplotlib.axes._subplots.AxesSubplot at 0x20d85620a90>"
      ]
     },
     "execution_count": 121,
     "metadata": {},
     "output_type": "execute_result"
    },
    {
     "data": {
      "image/png": "[encoded data removed]",
      "text/plain": [
       "<matplotlib.figure.Figure at 0x20d8550bac8>"
      ]
     },
     "metadata": {},
     "output_type": "display_data"
    }
   ],
   "source": [
    "sns.countplot(y='ServiceType', hue='ComponentAttended', data=ComponentServiceLog)"
   ]
  },
  {
   "cell_type": "markdown",
   "metadata": {},
   "source": [
    "##### After Visualizing ComponentServiceLog it shows that all the componenets are equally attended"
   ]
  }
 ],
 "metadata": {
  "kernelspec": {
   "display_name": "Python 3",
   "language": "python",
   "name": "python3"
  },
  "language_info": {
   "codemirror_mode": {
    "name": "ipython",
    "version": 3
   },
   "file_extension": ".py",
   "mimetype": "text/x-python",
   "name": "python",
   "nbconvert_exporter": "python",
   "pygments_lexer": "ipython3",
   "version": "3.6.4"
  }
 },
 "nbformat": 4,
 "nbformat_minor": 2
}
